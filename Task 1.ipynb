{
  "cells": [
    {
      "cell_type": "code",
      "execution_count": 1,
      "metadata": {
        "id": "XFzNuqYNN0cZ"
      },
      "outputs": [],
      "source": [
        "# type: ignore\n",
        "\n",
        "import pandas as pd\n",
        "from datetime import date, timedelta\n",
        "import seaborn as sns\n",
        "from scipy.stats import ttest_ind\n",
        "import matplotlib.pyplot as plt\n",
        "%matplotlib inline\n",
        "import numpy as np\n",
        "from mlxtend.frequent_patterns import apriori\n",
        "from mlxtend.frequent_patterns import association_rules"
      ]
    },
    {
      "cell_type": "code",
      "execution_count": 4,
      "metadata": {
        "id": "TH30yJksQeW5"
      },
      "outputs": [],
      "source": [
        "tran_data = pd.read_excel(\"QVI_transaction_data.xlsx\")"
      ]
    },
    {
      "cell_type": "code",
      "execution_count": 5,
      "metadata": {
        "colab": {
          "base_uri": "https://localhost:8080/",
          "height": 196
        },
        "id": "wthswvpFQeUQ",
        "outputId": "bfc80fb0-2f58-4099-ac3b-bf3bf3a9fb0a"
      },
      "outputs": [
        {
          "data": {
            "text/html": [
              "<div>\n",
              "<style scoped>\n",
              "    .dataframe tbody tr th:only-of-type {\n",
              "        vertical-align: middle;\n",
              "    }\n",
              "\n",
              "    .dataframe tbody tr th {\n",
              "        vertical-align: top;\n",
              "    }\n",
              "\n",
              "    .dataframe thead th {\n",
              "        text-align: right;\n",
              "    }\n",
              "</style>\n",
              "<table border=\"1\" class=\"dataframe\">\n",
              "  <thead>\n",
              "    <tr style=\"text-align: right;\">\n",
              "      <th></th>\n",
              "      <th>DATE</th>\n",
              "      <th>STORE_NBR</th>\n",
              "      <th>LYLTY_CARD_NBR</th>\n",
              "      <th>TXN_ID</th>\n",
              "      <th>PROD_NBR</th>\n",
              "      <th>PROD_NAME</th>\n",
              "      <th>PROD_QTY</th>\n",
              "      <th>TOT_SALES</th>\n",
              "    </tr>\n",
              "  </thead>\n",
              "  <tbody>\n",
              "    <tr>\n",
              "      <th>0</th>\n",
              "      <td>43390</td>\n",
              "      <td>1</td>\n",
              "      <td>1000</td>\n",
              "      <td>1</td>\n",
              "      <td>5</td>\n",
              "      <td>Natural Chip        Compny SeaSalt175g</td>\n",
              "      <td>2</td>\n",
              "      <td>6.0</td>\n",
              "    </tr>\n",
              "    <tr>\n",
              "      <th>1</th>\n",
              "      <td>43599</td>\n",
              "      <td>1</td>\n",
              "      <td>1307</td>\n",
              "      <td>348</td>\n",
              "      <td>66</td>\n",
              "      <td>CCs Nacho Cheese    175g</td>\n",
              "      <td>3</td>\n",
              "      <td>6.3</td>\n",
              "    </tr>\n",
              "    <tr>\n",
              "      <th>2</th>\n",
              "      <td>43605</td>\n",
              "      <td>1</td>\n",
              "      <td>1343</td>\n",
              "      <td>383</td>\n",
              "      <td>61</td>\n",
              "      <td>Smiths Crinkle Cut  Chips Chicken 170g</td>\n",
              "      <td>2</td>\n",
              "      <td>2.9</td>\n",
              "    </tr>\n",
              "    <tr>\n",
              "      <th>3</th>\n",
              "      <td>43329</td>\n",
              "      <td>2</td>\n",
              "      <td>2373</td>\n",
              "      <td>974</td>\n",
              "      <td>69</td>\n",
              "      <td>Smiths Chip Thinly  S/Cream&amp;Onion 175g</td>\n",
              "      <td>5</td>\n",
              "      <td>15.0</td>\n",
              "    </tr>\n",
              "    <tr>\n",
              "      <th>4</th>\n",
              "      <td>43330</td>\n",
              "      <td>2</td>\n",
              "      <td>2426</td>\n",
              "      <td>1038</td>\n",
              "      <td>108</td>\n",
              "      <td>Kettle Tortilla ChpsHny&amp;Jlpno Chili 150g</td>\n",
              "      <td>3</td>\n",
              "      <td>13.8</td>\n",
              "    </tr>\n",
              "  </tbody>\n",
              "</table>\n",
              "</div>"
            ],
            "text/plain": [
              "    DATE  STORE_NBR  LYLTY_CARD_NBR  TXN_ID  PROD_NBR  \\\n",
              "0  43390          1            1000       1         5   \n",
              "1  43599          1            1307     348        66   \n",
              "2  43605          1            1343     383        61   \n",
              "3  43329          2            2373     974        69   \n",
              "4  43330          2            2426    1038       108   \n",
              "\n",
              "                                  PROD_NAME  PROD_QTY  TOT_SALES  \n",
              "0    Natural Chip        Compny SeaSalt175g         2        6.0  \n",
              "1                  CCs Nacho Cheese    175g         3        6.3  \n",
              "2    Smiths Crinkle Cut  Chips Chicken 170g         2        2.9  \n",
              "3    Smiths Chip Thinly  S/Cream&Onion 175g         5       15.0  \n",
              "4  Kettle Tortilla ChpsHny&Jlpno Chili 150g         3       13.8  "
            ]
          },
          "execution_count": 5,
          "metadata": {},
          "output_type": "execute_result"
        }
      ],
      "source": [
        "tran_data.head()"
      ]
    },
    {
      "cell_type": "code",
      "execution_count": 6,
      "metadata": {
        "colab": {
          "base_uri": "https://localhost:8080/",
          "height": 286
        },
        "id": "5qdYbzznQeQh",
        "outputId": "ee37abdb-78fa-4af1-8643-90f9678ffad6"
      },
      "outputs": [
        {
          "data": {
            "text/html": [
              "<div>\n",
              "<style scoped>\n",
              "    .dataframe tbody tr th:only-of-type {\n",
              "        vertical-align: middle;\n",
              "    }\n",
              "\n",
              "    .dataframe tbody tr th {\n",
              "        vertical-align: top;\n",
              "    }\n",
              "\n",
              "    .dataframe thead th {\n",
              "        text-align: right;\n",
              "    }\n",
              "</style>\n",
              "<table border=\"1\" class=\"dataframe\">\n",
              "  <thead>\n",
              "    <tr style=\"text-align: right;\">\n",
              "      <th></th>\n",
              "      <th>DATE</th>\n",
              "      <th>STORE_NBR</th>\n",
              "      <th>LYLTY_CARD_NBR</th>\n",
              "      <th>TXN_ID</th>\n",
              "      <th>PROD_NBR</th>\n",
              "      <th>PROD_QTY</th>\n",
              "      <th>TOT_SALES</th>\n",
              "    </tr>\n",
              "  </thead>\n",
              "  <tbody>\n",
              "    <tr>\n",
              "      <th>count</th>\n",
              "      <td>264836.000000</td>\n",
              "      <td>264836.00000</td>\n",
              "      <td>2.648360e+05</td>\n",
              "      <td>2.648360e+05</td>\n",
              "      <td>264836.000000</td>\n",
              "      <td>264836.000000</td>\n",
              "      <td>264836.000000</td>\n",
              "    </tr>\n",
              "    <tr>\n",
              "      <th>mean</th>\n",
              "      <td>43464.036260</td>\n",
              "      <td>135.08011</td>\n",
              "      <td>1.355495e+05</td>\n",
              "      <td>1.351583e+05</td>\n",
              "      <td>56.583157</td>\n",
              "      <td>1.907309</td>\n",
              "      <td>7.304200</td>\n",
              "    </tr>\n",
              "    <tr>\n",
              "      <th>std</th>\n",
              "      <td>105.389282</td>\n",
              "      <td>76.78418</td>\n",
              "      <td>8.057998e+04</td>\n",
              "      <td>7.813303e+04</td>\n",
              "      <td>32.826638</td>\n",
              "      <td>0.643654</td>\n",
              "      <td>3.083226</td>\n",
              "    </tr>\n",
              "    <tr>\n",
              "      <th>min</th>\n",
              "      <td>43282.000000</td>\n",
              "      <td>1.00000</td>\n",
              "      <td>1.000000e+03</td>\n",
              "      <td>1.000000e+00</td>\n",
              "      <td>1.000000</td>\n",
              "      <td>1.000000</td>\n",
              "      <td>1.500000</td>\n",
              "    </tr>\n",
              "    <tr>\n",
              "      <th>25%</th>\n",
              "      <td>43373.000000</td>\n",
              "      <td>70.00000</td>\n",
              "      <td>7.002100e+04</td>\n",
              "      <td>6.760150e+04</td>\n",
              "      <td>28.000000</td>\n",
              "      <td>2.000000</td>\n",
              "      <td>5.400000</td>\n",
              "    </tr>\n",
              "    <tr>\n",
              "      <th>50%</th>\n",
              "      <td>43464.000000</td>\n",
              "      <td>130.00000</td>\n",
              "      <td>1.303575e+05</td>\n",
              "      <td>1.351375e+05</td>\n",
              "      <td>56.000000</td>\n",
              "      <td>2.000000</td>\n",
              "      <td>7.400000</td>\n",
              "    </tr>\n",
              "    <tr>\n",
              "      <th>75%</th>\n",
              "      <td>43555.000000</td>\n",
              "      <td>203.00000</td>\n",
              "      <td>2.030942e+05</td>\n",
              "      <td>2.027012e+05</td>\n",
              "      <td>85.000000</td>\n",
              "      <td>2.000000</td>\n",
              "      <td>9.200000</td>\n",
              "    </tr>\n",
              "    <tr>\n",
              "      <th>max</th>\n",
              "      <td>43646.000000</td>\n",
              "      <td>272.00000</td>\n",
              "      <td>2.373711e+06</td>\n",
              "      <td>2.415841e+06</td>\n",
              "      <td>114.000000</td>\n",
              "      <td>200.000000</td>\n",
              "      <td>650.000000</td>\n",
              "    </tr>\n",
              "  </tbody>\n",
              "</table>\n",
              "</div>"
            ],
            "text/plain": [
              "                DATE     STORE_NBR  LYLTY_CARD_NBR        TXN_ID  \\\n",
              "count  264836.000000  264836.00000    2.648360e+05  2.648360e+05   \n",
              "mean    43464.036260     135.08011    1.355495e+05  1.351583e+05   \n",
              "std       105.389282      76.78418    8.057998e+04  7.813303e+04   \n",
              "min     43282.000000       1.00000    1.000000e+03  1.000000e+00   \n",
              "25%     43373.000000      70.00000    7.002100e+04  6.760150e+04   \n",
              "50%     43464.000000     130.00000    1.303575e+05  1.351375e+05   \n",
              "75%     43555.000000     203.00000    2.030942e+05  2.027012e+05   \n",
              "max     43646.000000     272.00000    2.373711e+06  2.415841e+06   \n",
              "\n",
              "            PROD_NBR       PROD_QTY      TOT_SALES  \n",
              "count  264836.000000  264836.000000  264836.000000  \n",
              "mean       56.583157       1.907309       7.304200  \n",
              "std        32.826638       0.643654       3.083226  \n",
              "min         1.000000       1.000000       1.500000  \n",
              "25%        28.000000       2.000000       5.400000  \n",
              "50%        56.000000       2.000000       7.400000  \n",
              "75%        85.000000       2.000000       9.200000  \n",
              "max       114.000000     200.000000     650.000000  "
            ]
          },
          "execution_count": 6,
          "metadata": {},
          "output_type": "execute_result"
        }
      ],
      "source": [
        "tran_data.describe()"
      ]
    },
    {
      "cell_type": "code",
      "execution_count": 7,
      "metadata": {
        "id": "8NyE7_gGQeNt"
      },
      "outputs": [],
      "source": [
        "pur_bvr = pd.read_csv(\"QVI_purchase_behaviour.csv\")"
      ]
    },
    {
      "cell_type": "code",
      "execution_count": 8,
      "metadata": {
        "colab": {
          "base_uri": "https://localhost:8080/",
          "height": 196
        },
        "id": "0clUUZTYQeLT",
        "outputId": "31f94231-8e4e-4492-c6a5-df69a6309344"
      },
      "outputs": [
        {
          "data": {
            "text/html": [
              "<div>\n",
              "<style scoped>\n",
              "    .dataframe tbody tr th:only-of-type {\n",
              "        vertical-align: middle;\n",
              "    }\n",
              "\n",
              "    .dataframe tbody tr th {\n",
              "        vertical-align: top;\n",
              "    }\n",
              "\n",
              "    .dataframe thead th {\n",
              "        text-align: right;\n",
              "    }\n",
              "</style>\n",
              "<table border=\"1\" class=\"dataframe\">\n",
              "  <thead>\n",
              "    <tr style=\"text-align: right;\">\n",
              "      <th></th>\n",
              "      <th>LYLTY_CARD_NBR</th>\n",
              "      <th>LIFESTAGE</th>\n",
              "      <th>PREMIUM_CUSTOMER</th>\n",
              "    </tr>\n",
              "  </thead>\n",
              "  <tbody>\n",
              "    <tr>\n",
              "      <th>0</th>\n",
              "      <td>1000</td>\n",
              "      <td>YOUNG SINGLES/COUPLES</td>\n",
              "      <td>Premium</td>\n",
              "    </tr>\n",
              "    <tr>\n",
              "      <th>1</th>\n",
              "      <td>1002</td>\n",
              "      <td>YOUNG SINGLES/COUPLES</td>\n",
              "      <td>Mainstream</td>\n",
              "    </tr>\n",
              "    <tr>\n",
              "      <th>2</th>\n",
              "      <td>1003</td>\n",
              "      <td>YOUNG FAMILIES</td>\n",
              "      <td>Budget</td>\n",
              "    </tr>\n",
              "    <tr>\n",
              "      <th>3</th>\n",
              "      <td>1004</td>\n",
              "      <td>OLDER SINGLES/COUPLES</td>\n",
              "      <td>Mainstream</td>\n",
              "    </tr>\n",
              "    <tr>\n",
              "      <th>4</th>\n",
              "      <td>1005</td>\n",
              "      <td>MIDAGE SINGLES/COUPLES</td>\n",
              "      <td>Mainstream</td>\n",
              "    </tr>\n",
              "  </tbody>\n",
              "</table>\n",
              "</div>"
            ],
            "text/plain": [
              "   LYLTY_CARD_NBR               LIFESTAGE PREMIUM_CUSTOMER\n",
              "0            1000   YOUNG SINGLES/COUPLES          Premium\n",
              "1            1002   YOUNG SINGLES/COUPLES       Mainstream\n",
              "2            1003          YOUNG FAMILIES           Budget\n",
              "3            1004   OLDER SINGLES/COUPLES       Mainstream\n",
              "4            1005  MIDAGE SINGLES/COUPLES       Mainstream"
            ]
          },
          "execution_count": 8,
          "metadata": {},
          "output_type": "execute_result"
        }
      ],
      "source": [
        "pur_bvr.head()"
      ]
    },
    {
      "cell_type": "code",
      "execution_count": 9,
      "metadata": {
        "colab": {
          "base_uri": "https://localhost:8080/",
          "height": 286
        },
        "id": "UmtrwhlMQeIR",
        "outputId": "508e9fa3-3e63-429b-e6ca-d98101756b0e"
      },
      "outputs": [
        {
          "data": {
            "text/html": [
              "<div>\n",
              "<style scoped>\n",
              "    .dataframe tbody tr th:only-of-type {\n",
              "        vertical-align: middle;\n",
              "    }\n",
              "\n",
              "    .dataframe tbody tr th {\n",
              "        vertical-align: top;\n",
              "    }\n",
              "\n",
              "    .dataframe thead th {\n",
              "        text-align: right;\n",
              "    }\n",
              "</style>\n",
              "<table border=\"1\" class=\"dataframe\">\n",
              "  <thead>\n",
              "    <tr style=\"text-align: right;\">\n",
              "      <th></th>\n",
              "      <th>LYLTY_CARD_NBR</th>\n",
              "    </tr>\n",
              "  </thead>\n",
              "  <tbody>\n",
              "    <tr>\n",
              "      <th>count</th>\n",
              "      <td>7.263700e+04</td>\n",
              "    </tr>\n",
              "    <tr>\n",
              "      <th>mean</th>\n",
              "      <td>1.361859e+05</td>\n",
              "    </tr>\n",
              "    <tr>\n",
              "      <th>std</th>\n",
              "      <td>8.989293e+04</td>\n",
              "    </tr>\n",
              "    <tr>\n",
              "      <th>min</th>\n",
              "      <td>1.000000e+03</td>\n",
              "    </tr>\n",
              "    <tr>\n",
              "      <th>25%</th>\n",
              "      <td>6.620200e+04</td>\n",
              "    </tr>\n",
              "    <tr>\n",
              "      <th>50%</th>\n",
              "      <td>1.340400e+05</td>\n",
              "    </tr>\n",
              "    <tr>\n",
              "      <th>75%</th>\n",
              "      <td>2.033750e+05</td>\n",
              "    </tr>\n",
              "    <tr>\n",
              "      <th>max</th>\n",
              "      <td>2.373711e+06</td>\n",
              "    </tr>\n",
              "  </tbody>\n",
              "</table>\n",
              "</div>"
            ],
            "text/plain": [
              "       LYLTY_CARD_NBR\n",
              "count    7.263700e+04\n",
              "mean     1.361859e+05\n",
              "std      8.989293e+04\n",
              "min      1.000000e+03\n",
              "25%      6.620200e+04\n",
              "50%      1.340400e+05\n",
              "75%      2.033750e+05\n",
              "max      2.373711e+06"
            ]
          },
          "execution_count": 9,
          "metadata": {},
          "output_type": "execute_result"
        }
      ],
      "source": [
        "pur_bvr.describe()"
      ]
    },
    {
      "cell_type": "code",
      "execution_count": 10,
      "metadata": {
        "colab": {
          "base_uri": "https://localhost:8080/"
        },
        "id": "p84qCmbEQeFk",
        "outputId": "cd6e05c3-2bb4-430c-ead6-6c9c6b22211e"
      },
      "outputs": [
        {
          "data": {
            "text/plain": [
              "DATE              0\n",
              "STORE_NBR         0\n",
              "LYLTY_CARD_NBR    0\n",
              "TXN_ID            0\n",
              "PROD_NBR          0\n",
              "PROD_NAME         0\n",
              "PROD_QTY          0\n",
              "TOT_SALES         0\n",
              "dtype: int64"
            ]
          },
          "execution_count": 10,
          "metadata": {},
          "output_type": "execute_result"
        }
      ],
      "source": [
        "tran_data.isnull().sum()"
      ]
    },
    {
      "cell_type": "code",
      "execution_count": 11,
      "metadata": {
        "colab": {
          "base_uri": "https://localhost:8080/"
        },
        "id": "387pkv2zQd-2",
        "outputId": "1ba7e737-1ab3-40fc-b968-c13cf3eaab1a"
      },
      "outputs": [
        {
          "data": {
            "text/plain": [
              "LYLTY_CARD_NBR      0\n",
              "LIFESTAGE           0\n",
              "PREMIUM_CUSTOMER    0\n",
              "dtype: int64"
            ]
          },
          "execution_count": 11,
          "metadata": {},
          "output_type": "execute_result"
        }
      ],
      "source": [
        "pur_bvr.isnull().sum()"
      ]
    },
    {
      "cell_type": "code",
      "execution_count": 12,
      "metadata": {
        "colab": {
          "base_uri": "https://localhost:8080/",
          "height": 196
        },
        "id": "9LFCNmsjQdaU",
        "outputId": "fffdf695-4059-491a-a4e0-082ac8c0a9e9"
      },
      "outputs": [
        {
          "data": {
            "text/html": [
              "<div>\n",
              "<style scoped>\n",
              "    .dataframe tbody tr th:only-of-type {\n",
              "        vertical-align: middle;\n",
              "    }\n",
              "\n",
              "    .dataframe tbody tr th {\n",
              "        vertical-align: top;\n",
              "    }\n",
              "\n",
              "    .dataframe thead th {\n",
              "        text-align: right;\n",
              "    }\n",
              "</style>\n",
              "<table border=\"1\" class=\"dataframe\">\n",
              "  <thead>\n",
              "    <tr style=\"text-align: right;\">\n",
              "      <th></th>\n",
              "      <th>LYLTY_CARD_NBR</th>\n",
              "      <th>LIFESTAGE</th>\n",
              "      <th>PREMIUM_CUSTOMER</th>\n",
              "      <th>DATE</th>\n",
              "      <th>STORE_NBR</th>\n",
              "      <th>TXN_ID</th>\n",
              "      <th>PROD_NBR</th>\n",
              "      <th>PROD_NAME</th>\n",
              "      <th>PROD_QTY</th>\n",
              "      <th>TOT_SALES</th>\n",
              "    </tr>\n",
              "  </thead>\n",
              "  <tbody>\n",
              "    <tr>\n",
              "      <th>0</th>\n",
              "      <td>1000</td>\n",
              "      <td>YOUNG SINGLES/COUPLES</td>\n",
              "      <td>Premium</td>\n",
              "      <td>43390</td>\n",
              "      <td>1</td>\n",
              "      <td>1</td>\n",
              "      <td>5</td>\n",
              "      <td>Natural Chip        Compny SeaSalt175g</td>\n",
              "      <td>2</td>\n",
              "      <td>6.0</td>\n",
              "    </tr>\n",
              "    <tr>\n",
              "      <th>1</th>\n",
              "      <td>1307</td>\n",
              "      <td>MIDAGE SINGLES/COUPLES</td>\n",
              "      <td>Budget</td>\n",
              "      <td>43599</td>\n",
              "      <td>1</td>\n",
              "      <td>348</td>\n",
              "      <td>66</td>\n",
              "      <td>CCs Nacho Cheese    175g</td>\n",
              "      <td>3</td>\n",
              "      <td>6.3</td>\n",
              "    </tr>\n",
              "    <tr>\n",
              "      <th>2</th>\n",
              "      <td>1343</td>\n",
              "      <td>MIDAGE SINGLES/COUPLES</td>\n",
              "      <td>Budget</td>\n",
              "      <td>43605</td>\n",
              "      <td>1</td>\n",
              "      <td>383</td>\n",
              "      <td>61</td>\n",
              "      <td>Smiths Crinkle Cut  Chips Chicken 170g</td>\n",
              "      <td>2</td>\n",
              "      <td>2.9</td>\n",
              "    </tr>\n",
              "    <tr>\n",
              "      <th>3</th>\n",
              "      <td>2373</td>\n",
              "      <td>MIDAGE SINGLES/COUPLES</td>\n",
              "      <td>Budget</td>\n",
              "      <td>43329</td>\n",
              "      <td>2</td>\n",
              "      <td>974</td>\n",
              "      <td>69</td>\n",
              "      <td>Smiths Chip Thinly  S/Cream&amp;Onion 175g</td>\n",
              "      <td>5</td>\n",
              "      <td>15.0</td>\n",
              "    </tr>\n",
              "    <tr>\n",
              "      <th>4</th>\n",
              "      <td>2426</td>\n",
              "      <td>MIDAGE SINGLES/COUPLES</td>\n",
              "      <td>Budget</td>\n",
              "      <td>43330</td>\n",
              "      <td>2</td>\n",
              "      <td>1038</td>\n",
              "      <td>108</td>\n",
              "      <td>Kettle Tortilla ChpsHny&amp;Jlpno Chili 150g</td>\n",
              "      <td>3</td>\n",
              "      <td>13.8</td>\n",
              "    </tr>\n",
              "  </tbody>\n",
              "</table>\n",
              "</div>"
            ],
            "text/plain": [
              "   LYLTY_CARD_NBR               LIFESTAGE PREMIUM_CUSTOMER   DATE  STORE_NBR  \\\n",
              "0            1000   YOUNG SINGLES/COUPLES          Premium  43390          1   \n",
              "1            1307  MIDAGE SINGLES/COUPLES           Budget  43599          1   \n",
              "2            1343  MIDAGE SINGLES/COUPLES           Budget  43605          1   \n",
              "3            2373  MIDAGE SINGLES/COUPLES           Budget  43329          2   \n",
              "4            2426  MIDAGE SINGLES/COUPLES           Budget  43330          2   \n",
              "\n",
              "   TXN_ID  PROD_NBR                                 PROD_NAME  PROD_QTY  \\\n",
              "0       1         5    Natural Chip        Compny SeaSalt175g         2   \n",
              "1     348        66                  CCs Nacho Cheese    175g         3   \n",
              "2     383        61    Smiths Crinkle Cut  Chips Chicken 170g         2   \n",
              "3     974        69    Smiths Chip Thinly  S/Cream&Onion 175g         5   \n",
              "4    1038       108  Kettle Tortilla ChpsHny&Jlpno Chili 150g         3   \n",
              "\n",
              "   TOT_SALES  \n",
              "0        6.0  \n",
              "1        6.3  \n",
              "2        2.9  \n",
              "3       15.0  \n",
              "4       13.8  "
            ]
          },
          "execution_count": 12,
          "metadata": {},
          "output_type": "execute_result"
        }
      ],
      "source": [
        "merged_data = pd.merge(pur_bvr, tran_data, on=\"LYLTY_CARD_NBR\", how=\"right\")\n",
        "merged_data.head()"
      ]
    },
    {
      "cell_type": "code",
      "execution_count": 13,
      "metadata": {
        "colab": {
          "base_uri": "https://localhost:8080/"
        },
        "id": "4MAZYDHLX_FG",
        "outputId": "d86c457d-d886-4ccd-8991-252f6f92b003"
      },
      "outputs": [
        {
          "name": "stdout",
          "output_type": "stream",
          "text": [
            "264836\n",
            "264836\n"
          ]
        }
      ],
      "source": [
        "print(len(merged_data))\n",
        "print(len(tran_data))"
      ]
    },
    {
      "cell_type": "code",
      "execution_count": 14,
      "metadata": {
        "colab": {
          "base_uri": "https://localhost:8080/"
        },
        "id": "PaVqgYiKYJLu",
        "outputId": "196d6def-d732-452c-b713-deb4599c2c79"
      },
      "outputs": [
        {
          "name": "stdout",
          "output_type": "stream",
          "text": [
            "<class 'pandas.core.frame.DataFrame'>\n",
            "Int64Index: 264836 entries, 0 to 264835\n",
            "Data columns (total 10 columns):\n",
            " #   Column            Non-Null Count   Dtype  \n",
            "---  ------            --------------   -----  \n",
            " 0   LYLTY_CARD_NBR    264836 non-null  int64  \n",
            " 1   LIFESTAGE         264836 non-null  object \n",
            " 2   PREMIUM_CUSTOMER  264836 non-null  object \n",
            " 3   DATE              264836 non-null  int64  \n",
            " 4   STORE_NBR         264836 non-null  int64  \n",
            " 5   TXN_ID            264836 non-null  int64  \n",
            " 6   PROD_NBR          264836 non-null  int64  \n",
            " 7   PROD_NAME         264836 non-null  object \n",
            " 8   PROD_QTY          264836 non-null  int64  \n",
            " 9   TOT_SALES         264836 non-null  float64\n",
            "dtypes: float64(1), int64(6), object(3)\n",
            "memory usage: 22.2+ MB\n"
          ]
        }
      ],
      "source": [
        "merged_data.info()"
      ]
    },
    {
      "cell_type": "code",
      "execution_count": 15,
      "metadata": {
        "id": "e84MafEPYJIN"
      },
      "outputs": [],
      "source": [
        "start = date(1899, 12, 30)\n",
        "new_date_format = []\n",
        "\n",
        "for date in merged_data[\"DATE\"]:\n",
        "    delta = timedelta(date)\n",
        "    new_date_format.append(start + delta)"
      ]
    },
    {
      "cell_type": "code",
      "execution_count": 16,
      "metadata": {
        "colab": {
          "base_uri": "https://localhost:8080/"
        },
        "id": "bSdNqiiEYJFV",
        "outputId": "4c9e598a-27ee-4513-dddd-f44906c492a2"
      },
      "outputs": [
        {
          "name": "stdout",
          "output_type": "stream",
          "text": [
            "datetime64[ns]\n"
          ]
        }
      ],
      "source": [
        "merged_data[\"DATE\"] = pd.to_datetime(pd.Series(new_date_format))\n",
        "print(merged_data[\"DATE\"].dtype)"
      ]
    },
    {
      "cell_type": "code",
      "execution_count": 17,
      "metadata": {
        "colab": {
          "base_uri": "https://localhost:8080/"
        },
        "id": "OWSASNp-YJCj",
        "outputId": "5e187b30-5cb3-40c5-bfaf-5b0021f95cd1"
      },
      "outputs": [
        {
          "data": {
            "text/plain": [
              "array(['Natural Chip        Compny SeaSalt175g',\n",
              "       'CCs Nacho Cheese    175g',\n",
              "       'Smiths Crinkle Cut  Chips Chicken 170g',\n",
              "       'Smiths Chip Thinly  S/Cream&Onion 175g',\n",
              "       'Kettle Tortilla ChpsHny&Jlpno Chili 150g',\n",
              "       'Old El Paso Salsa   Dip Tomato Mild 300g',\n",
              "       'Smiths Crinkle Chips Salt & Vinegar 330g',\n",
              "       'Grain Waves         Sweet Chilli 210g',\n",
              "       'Doritos Corn Chip Mexican Jalapeno 150g',\n",
              "       'Grain Waves Sour    Cream&Chives 210G',\n",
              "       'Kettle Sensations   Siracha Lime 150g',\n",
              "       'Twisties Cheese     270g', 'WW Crinkle Cut      Chicken 175g',\n",
              "       'Thins Chips Light&  Tangy 175g', 'CCs Original 175g',\n",
              "       'Burger Rings 220g', 'NCC Sour Cream &    Garden Chives 175g',\n",
              "       'Doritos Corn Chip Southern Chicken 150g',\n",
              "       'Cheezels Cheese Box 125g', 'Smiths Crinkle      Original 330g',\n",
              "       'Infzns Crn Crnchers Tangy Gcamole 110g',\n",
              "       'Kettle Sea Salt     And Vinegar 175g',\n",
              "       'Smiths Chip Thinly  Cut Original 175g', 'Kettle Original 175g',\n",
              "       'Red Rock Deli Thai  Chilli&Lime 150g',\n",
              "       'Pringles Sthrn FriedChicken 134g', 'Pringles Sweet&Spcy BBQ 134g',\n",
              "       'Red Rock Deli SR    Salsa & Mzzrlla 150g',\n",
              "       'Thins Chips         Originl saltd 175g',\n",
              "       'Red Rock Deli Sp    Salt & Truffle 150G',\n",
              "       'Smiths Thinly       Swt Chli&S/Cream175G', 'Kettle Chilli 175g',\n",
              "       'Doritos Mexicana    170g',\n",
              "       'Smiths Crinkle Cut  French OnionDip 150g',\n",
              "       'Natural ChipCo      Hony Soy Chckn175g',\n",
              "       'Dorito Corn Chp     Supreme 380g', 'Twisties Chicken270g',\n",
              "       'Smiths Thinly Cut   Roast Chicken 175g',\n",
              "       'Smiths Crinkle Cut  Tomato Salsa 150g',\n",
              "       'Kettle Mozzarella   Basil & Pesto 175g',\n",
              "       'Infuzions Thai SweetChili PotatoMix 110g',\n",
              "       'Kettle Sensations   Camembert & Fig 150g',\n",
              "       'Smith Crinkle Cut   Mac N Cheese 150g',\n",
              "       'Kettle Honey Soy    Chicken 175g',\n",
              "       'Thins Chips Seasonedchicken 175g',\n",
              "       'Smiths Crinkle Cut  Salt & Vinegar 170g',\n",
              "       'Infuzions BBQ Rib   Prawn Crackers 110g',\n",
              "       'GrnWves Plus Btroot & Chilli Jam 180g',\n",
              "       'Tyrrells Crisps     Lightly Salted 165g',\n",
              "       'Kettle Sweet Chilli And Sour Cream 175g',\n",
              "       'Doritos Salsa       Medium 300g', 'Kettle 135g Swt Pot Sea Salt',\n",
              "       'Pringles SourCream  Onion 134g',\n",
              "       'Doritos Corn Chips  Original 170g',\n",
              "       'Twisties Cheese     Burger 250g',\n",
              "       'Old El Paso Salsa   Dip Chnky Tom Ht300g',\n",
              "       'Cobs Popd Swt/Chlli &Sr/Cream Chips 110g',\n",
              "       'Woolworths Mild     Salsa 300g',\n",
              "       'Natural Chip Co     Tmato Hrb&Spce 175g',\n",
              "       'Smiths Crinkle Cut  Chips Original 170g',\n",
              "       'Cobs Popd Sea Salt  Chips 110g',\n",
              "       'Smiths Crinkle Cut  Chips Chs&Onion170g',\n",
              "       'French Fries Potato Chips 175g',\n",
              "       'Old El Paso Salsa   Dip Tomato Med 300g',\n",
              "       'Doritos Corn Chips  Cheese Supreme 170g',\n",
              "       'Pringles Original   Crisps 134g',\n",
              "       'RRD Chilli&         Coconut 150g',\n",
              "       'WW Original Corn    Chips 200g',\n",
              "       'Thins Potato Chips  Hot & Spicy 175g',\n",
              "       'Cobs Popd Sour Crm  &Chives Chips 110g',\n",
              "       'Smiths Crnkle Chip  Orgnl Big Bag 380g',\n",
              "       'Doritos Corn Chips  Nacho Cheese 170g',\n",
              "       'Kettle Sensations   BBQ&Maple 150g',\n",
              "       'WW D/Style Chip     Sea Salt 200g',\n",
              "       'Pringles Chicken    Salt Crips 134g',\n",
              "       'WW Original Stacked Chips 160g',\n",
              "       'Smiths Chip Thinly  CutSalt/Vinegr175g', 'Cheezels Cheese 330g',\n",
              "       'Tostitos Lightly    Salted 175g',\n",
              "       'Thins Chips Salt &  Vinegar 175g',\n",
              "       'Smiths Crinkle Cut  Chips Barbecue 170g', 'Cheetos Puffs 165g',\n",
              "       'RRD Sweet Chilli &  Sour Cream 165g',\n",
              "       'WW Crinkle Cut      Original 175g',\n",
              "       'Tostitos Splash Of  Lime 175g', 'Woolworths Medium   Salsa 300g',\n",
              "       'Kettle Tortilla ChpsBtroot&Ricotta 150g',\n",
              "       'CCs Tasty Cheese    175g', 'Woolworths Cheese   Rings 190g',\n",
              "       'Tostitos Smoked     Chipotle 175g', 'Pringles Barbeque   134g',\n",
              "       'WW Supreme Cheese   Corn Chips 200g',\n",
              "       'Pringles Mystery    Flavour 134g',\n",
              "       'Tyrrells Crisps     Ched & Chives 165g',\n",
              "       'Snbts Whlgrn Crisps Cheddr&Mstrd 90g',\n",
              "       'Cheetos Chs & Bacon Balls 190g', 'Pringles Slt Vingar 134g',\n",
              "       'Infuzions SourCream&Herbs Veg Strws 110g',\n",
              "       'Kettle Tortilla ChpsFeta&Garlic 150g',\n",
              "       'Infuzions Mango     Chutny Papadums 70g',\n",
              "       'RRD Steak &         Chimuchurri 150g',\n",
              "       'RRD Honey Soy       Chicken 165g',\n",
              "       'Sunbites Whlegrn    Crisps Frch/Onin 90g',\n",
              "       'RRD Salt & Vinegar  165g', 'Doritos Cheese      Supreme 330g',\n",
              "       'Smiths Crinkle Cut  Snag&Sauce 150g',\n",
              "       'WW Sour Cream &OnionStacked Chips 160g',\n",
              "       'RRD Lime & Pepper   165g',\n",
              "       'Natural ChipCo Sea  Salt & Vinegr 175g',\n",
              "       'Red Rock Deli Chikn&Garlic Aioli 150g',\n",
              "       'RRD SR Slow Rst     Pork Belly 150g', 'RRD Pc Sea Salt     165g',\n",
              "       'Smith Crinkle Cut   Bolognese 150g', 'Doritos Salsa Mild  300g'],\n",
              "      dtype=object)"
            ]
          },
          "execution_count": 17,
          "metadata": {},
          "output_type": "execute_result"
        }
      ],
      "source": [
        "merged_data[\"PROD_NAME\"].unique()"
      ]
    },
    {
      "cell_type": "code",
      "execution_count": 18,
      "metadata": {
        "id": "hnQlfnYAYJAA"
      },
      "outputs": [
        {
          "name": "stderr",
          "output_type": "stream",
          "text": [
            "C:\\Users\\taara\\AppData\\Local\\Temp\\ipykernel_14864\\3022219261.py:1: FutureWarning: The default value of regex will change from True to False in a future version.\n",
            "  split_prods = merged_data[\"PROD_NAME\"].str.replace(r'([0-9]+[gG])','').str.replace(r'[^\\w]',' ').str.split()\n"
          ]
        }
      ],
      "source": [
        "split_prods = (\n",
        "    merged_data[\"PROD_NAME\"]\n",
        "    .str.replace(r\"([0-9]+[gG])\", \"\")\n",
        "    .str.replace(r\"[^\\w]\", \" \")\n",
        "    .str.split()\n",
        ")"
      ]
    },
    {
      "cell_type": "code",
      "execution_count": 19,
      "metadata": {
        "colab": {
          "base_uri": "https://localhost:8080/"
        },
        "id": "ErviFcyTYI9W",
        "outputId": "f266de4a-ae65-4e23-c67a-8e4459d76eea"
      },
      "outputs": [
        {
          "name": "stdout",
          "output_type": "stream",
          "text": [
            "Chips       49770\n",
            "Kettle      41288\n",
            "Smiths      28860\n",
            "Salt        27976\n",
            "Cheese      27890\n",
            "            ...  \n",
            "Sunbites     1432\n",
            "Pc           1431\n",
            "Garden       1419\n",
            "NCC          1419\n",
            "Fries        1418\n",
            "Length: 198, dtype: int64\n"
          ]
        }
      ],
      "source": [
        "word_counts = {}\n",
        "\n",
        "\n",
        "def count_words(line):\n",
        "    for word in line:\n",
        "        if word not in word_counts:\n",
        "            word_counts[word] = 1\n",
        "        else:\n",
        "            word_counts[word] += 1\n",
        "\n",
        "\n",
        "split_prods.apply(lambda line: count_words(line))\n",
        "print(pd.Series(word_counts).sort_values(ascending=False))"
      ]
    },
    {
      "cell_type": "code",
      "execution_count": 20,
      "metadata": {
        "colab": {
          "base_uri": "https://localhost:8080/"
        },
        "id": "uote108UYI6M",
        "outputId": "88a4eda9-0096-4904-a95e-0f539a749a53"
      },
      "outputs": [
        {
          "name": "stdout",
          "output_type": "stream",
          "text": [
            "       LYLTY_CARD_NBR     STORE_NBR        TXN_ID       PROD_NBR  \\\n",
            "count    2.648360e+05  264836.00000  2.648360e+05  264836.000000   \n",
            "mean     1.355495e+05     135.08011  1.351583e+05      56.583157   \n",
            "std      8.057998e+04      76.78418  7.813303e+04      32.826638   \n",
            "min      1.000000e+03       1.00000  1.000000e+00       1.000000   \n",
            "25%      7.002100e+04      70.00000  6.760150e+04      28.000000   \n",
            "50%      1.303575e+05     130.00000  1.351375e+05      56.000000   \n",
            "75%      2.030942e+05     203.00000  2.027012e+05      85.000000   \n",
            "max      2.373711e+06     272.00000  2.415841e+06     114.000000   \n",
            "\n",
            "            PROD_QTY      TOT_SALES  \n",
            "count  264836.000000  264836.000000  \n",
            "mean        1.907309       7.304200  \n",
            "std         0.643654       3.083226  \n",
            "min         1.000000       1.500000  \n",
            "25%         2.000000       5.400000  \n",
            "50%         2.000000       7.400000  \n",
            "75%         2.000000       9.200000  \n",
            "max       200.000000     650.000000   \n",
            "\n",
            "<class 'pandas.core.frame.DataFrame'>\n",
            "Int64Index: 264836 entries, 0 to 264835\n",
            "Data columns (total 10 columns):\n",
            " #   Column            Non-Null Count   Dtype         \n",
            "---  ------            --------------   -----         \n",
            " 0   LYLTY_CARD_NBR    264836 non-null  int64         \n",
            " 1   LIFESTAGE         264836 non-null  object        \n",
            " 2   PREMIUM_CUSTOMER  264836 non-null  object        \n",
            " 3   DATE              264836 non-null  datetime64[ns]\n",
            " 4   STORE_NBR         264836 non-null  int64         \n",
            " 5   TXN_ID            264836 non-null  int64         \n",
            " 6   PROD_NBR          264836 non-null  int64         \n",
            " 7   PROD_NAME         264836 non-null  object        \n",
            " 8   PROD_QTY          264836 non-null  int64         \n",
            " 9   TOT_SALES         264836 non-null  float64       \n",
            "dtypes: datetime64[ns](1), float64(1), int64(5), object(3)\n",
            "memory usage: 22.2+ MB\n",
            "None\n"
          ]
        }
      ],
      "source": [
        "print(merged_data.describe(), \"\\n\")\n",
        "print(merged_data.info())"
      ]
    },
    {
      "cell_type": "code",
      "execution_count": 21,
      "metadata": {
        "colab": {
          "base_uri": "https://localhost:8080/"
        },
        "id": "W1fVB_asaG9_",
        "outputId": "c6316720-cf72-461b-ce58-e5e1bcff8de7"
      },
      "outputs": [
        {
          "data": {
            "text/plain": [
              "(0.8, 50.75]       264834\n",
              "(50.75, 100.5]          0\n",
              "(100.5, 150.25]         0\n",
              "(150.25, 200.0]         2\n",
              "Name: PROD_QTY, dtype: int64"
            ]
          },
          "execution_count": 21,
          "metadata": {},
          "output_type": "execute_result"
        }
      ],
      "source": [
        "merged_data[\"PROD_QTY\"].value_counts(bins=4).sort_index()"
      ]
    },
    {
      "cell_type": "code",
      "execution_count": 22,
      "metadata": {
        "colab": {
          "base_uri": "https://localhost:8080/",
          "height": 280
        },
        "id": "JJ88GWBbaG6o",
        "outputId": "c5f471b8-e77e-4662-e195-4b00e68233c7"
      },
      "outputs": [
        {
          "data": {
            "text/html": [
              "<div>\n",
              "<style scoped>\n",
              "    .dataframe tbody tr th:only-of-type {\n",
              "        vertical-align: middle;\n",
              "    }\n",
              "\n",
              "    .dataframe tbody tr th {\n",
              "        vertical-align: top;\n",
              "    }\n",
              "\n",
              "    .dataframe thead th {\n",
              "        text-align: right;\n",
              "    }\n",
              "</style>\n",
              "<table border=\"1\" class=\"dataframe\">\n",
              "  <thead>\n",
              "    <tr style=\"text-align: right;\">\n",
              "      <th></th>\n",
              "      <th>LYLTY_CARD_NBR</th>\n",
              "      <th>LIFESTAGE</th>\n",
              "      <th>PREMIUM_CUSTOMER</th>\n",
              "      <th>DATE</th>\n",
              "      <th>STORE_NBR</th>\n",
              "      <th>TXN_ID</th>\n",
              "      <th>PROD_NBR</th>\n",
              "      <th>PROD_NAME</th>\n",
              "      <th>PROD_QTY</th>\n",
              "      <th>TOT_SALES</th>\n",
              "    </tr>\n",
              "  </thead>\n",
              "  <tbody>\n",
              "    <tr>\n",
              "      <th>69762</th>\n",
              "      <td>226000</td>\n",
              "      <td>OLDER FAMILIES</td>\n",
              "      <td>Premium</td>\n",
              "      <td>2018-08-19</td>\n",
              "      <td>226</td>\n",
              "      <td>226201</td>\n",
              "      <td>4</td>\n",
              "      <td>Dorito Corn Chp     Supreme 380g</td>\n",
              "      <td>200</td>\n",
              "      <td>650.0</td>\n",
              "    </tr>\n",
              "    <tr>\n",
              "      <th>69763</th>\n",
              "      <td>226000</td>\n",
              "      <td>OLDER FAMILIES</td>\n",
              "      <td>Premium</td>\n",
              "      <td>2019-05-20</td>\n",
              "      <td>226</td>\n",
              "      <td>226210</td>\n",
              "      <td>4</td>\n",
              "      <td>Dorito Corn Chp     Supreme 380g</td>\n",
              "      <td>200</td>\n",
              "      <td>650.0</td>\n",
              "    </tr>\n",
              "    <tr>\n",
              "      <th>217237</th>\n",
              "      <td>201060</td>\n",
              "      <td>YOUNG FAMILIES</td>\n",
              "      <td>Premium</td>\n",
              "      <td>2019-05-18</td>\n",
              "      <td>201</td>\n",
              "      <td>200202</td>\n",
              "      <td>26</td>\n",
              "      <td>Pringles Sweet&amp;Spcy BBQ 134g</td>\n",
              "      <td>5</td>\n",
              "      <td>18.5</td>\n",
              "    </tr>\n",
              "    <tr>\n",
              "      <th>238333</th>\n",
              "      <td>219004</td>\n",
              "      <td>YOUNG SINGLES/COUPLES</td>\n",
              "      <td>Mainstream</td>\n",
              "      <td>2018-08-14</td>\n",
              "      <td>219</td>\n",
              "      <td>218018</td>\n",
              "      <td>25</td>\n",
              "      <td>Pringles SourCream  Onion 134g</td>\n",
              "      <td>5</td>\n",
              "      <td>18.5</td>\n",
              "    </tr>\n",
              "    <tr>\n",
              "      <th>238471</th>\n",
              "      <td>261331</td>\n",
              "      <td>YOUNG SINGLES/COUPLES</td>\n",
              "      <td>Mainstream</td>\n",
              "      <td>2019-05-19</td>\n",
              "      <td>261</td>\n",
              "      <td>261111</td>\n",
              "      <td>87</td>\n",
              "      <td>Infuzions BBQ Rib   Prawn Crackers 110g</td>\n",
              "      <td>5</td>\n",
              "      <td>19.0</td>\n",
              "    </tr>\n",
              "  </tbody>\n",
              "</table>\n",
              "</div>"
            ],
            "text/plain": [
              "        LYLTY_CARD_NBR              LIFESTAGE PREMIUM_CUSTOMER       DATE  \\\n",
              "69762           226000         OLDER FAMILIES          Premium 2018-08-19   \n",
              "69763           226000         OLDER FAMILIES          Premium 2019-05-20   \n",
              "217237          201060         YOUNG FAMILIES          Premium 2019-05-18   \n",
              "238333          219004  YOUNG SINGLES/COUPLES       Mainstream 2018-08-14   \n",
              "238471          261331  YOUNG SINGLES/COUPLES       Mainstream 2019-05-19   \n",
              "\n",
              "        STORE_NBR  TXN_ID  PROD_NBR                                PROD_NAME  \\\n",
              "69762         226  226201         4         Dorito Corn Chp     Supreme 380g   \n",
              "69763         226  226210         4         Dorito Corn Chp     Supreme 380g   \n",
              "217237        201  200202        26             Pringles Sweet&Spcy BBQ 134g   \n",
              "238333        219  218018        25           Pringles SourCream  Onion 134g   \n",
              "238471        261  261111        87  Infuzions BBQ Rib   Prawn Crackers 110g   \n",
              "\n",
              "        PROD_QTY  TOT_SALES  \n",
              "69762        200      650.0  \n",
              "69763        200      650.0  \n",
              "217237         5       18.5  \n",
              "238333         5       18.5  \n",
              "238471         5       19.0  "
            ]
          },
          "execution_count": 22,
          "metadata": {},
          "output_type": "execute_result"
        }
      ],
      "source": [
        "merged_data.sort_values(by=\"PROD_QTY\", ascending=False).head()"
      ]
    },
    {
      "cell_type": "code",
      "execution_count": 23,
      "metadata": {
        "id": "fGtQo5M8aG3h"
      },
      "outputs": [],
      "source": [
        "merged_data = merged_data[merged_data[\"PROD_QTY\"] < 6]"
      ]
    },
    {
      "cell_type": "code",
      "execution_count": 24,
      "metadata": {
        "colab": {
          "base_uri": "https://localhost:8080/"
        },
        "id": "z-LAYbj_aG0u",
        "outputId": "4f1dfd24-a178-40ca-a6d6-57fbc8c4c5a9"
      },
      "outputs": [
        {
          "data": {
            "text/plain": [
              "0"
            ]
          },
          "execution_count": 24,
          "metadata": {},
          "output_type": "execute_result"
        }
      ],
      "source": [
        "len(merged_data[merged_data[\"LYLTY_CARD_NBR\"] == 226000])"
      ]
    },
    {
      "cell_type": "code",
      "execution_count": 25,
      "metadata": {
        "colab": {
          "base_uri": "https://localhost:8080/"
        },
        "id": "-wbUuxocaGye",
        "outputId": "064110b3-3eee-46db-8a3f-86459141e9be"
      },
      "outputs": [
        {
          "name": "stderr",
          "output_type": "stream",
          "text": [
            "C:\\Users\\taara\\AppData\\Local\\Temp\\ipykernel_14864\\3598048537.py:1: FutureWarning: Treating datetime data as categorical rather than numeric in `.describe` is deprecated and will be removed in a future version of pandas. Specify `datetime_is_numeric=True` to silence this warning and adopt the future behavior now.\n",
            "  merged_data[\"DATE\"].describe()\n"
          ]
        },
        {
          "data": {
            "text/plain": [
              "count                  264834\n",
              "unique                    364\n",
              "top       2018-12-24 00:00:00\n",
              "freq                      939\n",
              "first     2018-07-01 00:00:00\n",
              "last      2019-06-30 00:00:00\n",
              "Name: DATE, dtype: object"
            ]
          },
          "execution_count": 25,
          "metadata": {},
          "output_type": "execute_result"
        }
      ],
      "source": [
        "merged_data[\"DATE\"].describe()"
      ]
    },
    {
      "cell_type": "code",
      "execution_count": 26,
      "metadata": {
        "colab": {
          "base_uri": "https://localhost:8080/"
        },
        "id": "lMdfxT-vaGuc",
        "outputId": "06e6213c-96d1-48da-f3a0-7023c17b381d"
      },
      "outputs": [
        {
          "data": {
            "text/plain": [
              "DatetimeIndex(['2018-12-25'], dtype='datetime64[ns]', freq=None)"
            ]
          },
          "execution_count": 26,
          "metadata": {},
          "output_type": "execute_result"
        }
      ],
      "source": [
        "pd.date_range(\n",
        "    start=merged_data[\"DATE\"].min(), end=merged_data[\"DATE\"].max()\n",
        ").difference(merged_data[\"DATE\"])"
      ]
    },
    {
      "cell_type": "code",
      "execution_count": 27,
      "metadata": {
        "id": "aTLJWWexcFIO"
      },
      "outputs": [],
      "source": [
        "check_null_date = pd.merge(\n",
        "    pd.Series(\n",
        "        pd.date_range(start=merged_data[\"DATE\"].min(), end=merged_data[\"DATE\"].max()),\n",
        "        name=\"DATE\",\n",
        "    ),\n",
        "    merged_data,\n",
        "    on=\"DATE\",\n",
        "    how=\"left\",\n",
        ")"
      ]
    },
    {
      "cell_type": "code",
      "execution_count": 28,
      "metadata": {
        "colab": {
          "base_uri": "https://localhost:8080/",
          "height": 280
        },
        "id": "kYEbsyzlcE8P",
        "outputId": "2c41bba0-d871-4e6b-935e-41c660ff3a82"
      },
      "outputs": [
        {
          "name": "stderr",
          "output_type": "stream",
          "text": [
            "C:\\Users\\taara\\AppData\\Local\\Temp\\ipykernel_14864\\3338362590.py:2: FutureWarning: The pandas.datetime class is deprecated and will be removed from pandas in a future version. Import from datetime module instead.\n",
            "  dec = trans_by_date[(trans_by_date.index >= pd.datetime(2018,12,1)) & (trans_by_date.index < pd.datetime(2019,1,1))].sort_index()\n"
          ]
        },
        {
          "data": {
            "image/png": "[encoded data removed]",
            "text/plain": [
              "<Figure size 1080x216 with 1 Axes>"
            ]
          },
          "metadata": {
            "needs_background": "light"
          },
          "output_type": "display_data"
        }
      ],
      "source": [
        "trans_by_date = check_null_date[\"DATE\"].value_counts()\n",
        "dec = trans_by_date[\n",
        "    (trans_by_date.index >= pd.datetime(2018, 12, 1))\n",
        "    & (trans_by_date.index < pd.datetime(2019, 1, 1))\n",
        "].sort_index()\n",
        "dec.index = dec.index.strftime(\"%d\")\n",
        "ax = dec.plot(figsize=(15, 3))\n",
        "ax.set_xticks(np.arange(len(dec)))\n",
        "ax.set_xticklabels(dec.index)\n",
        "plt.title(\"2018 December Sales\")\n",
        "plt.savefig(\"2018 December Sales.png\", bbox_inches=\"tight\")\n",
        "plt.show()"
      ]
    },
    {
      "cell_type": "code",
      "execution_count": 29,
      "metadata": {
        "colab": {
          "base_uri": "https://localhost:8080/"
        },
        "id": "VpdTBjdEcE5R",
        "outputId": "f582845c-e72d-400f-8520-0c1090b990be"
      },
      "outputs": [
        {
          "data": {
            "text/plain": [
              "2018-12-25      1\n",
              "2018-11-25    648\n",
              "2018-10-18    658\n",
              "2019-06-13    659\n",
              "2019-06-24    662\n",
              "Name: DATE, dtype: int64"
            ]
          },
          "execution_count": 29,
          "metadata": {},
          "output_type": "execute_result"
        }
      ],
      "source": [
        "check_null_date[\"DATE\"].value_counts().sort_values().head()"
      ]
    },
    {
      "cell_type": "code",
      "execution_count": 30,
      "metadata": {
        "colab": {
          "base_uri": "https://localhost:8080/",
          "height": 432
        },
        "id": "Xr4FQcvOcE1t",
        "outputId": "d067ddee-1bd5-405f-bb73-5910fb00582f"
      },
      "outputs": [
        {
          "name": "stderr",
          "output_type": "stream",
          "text": [
            "C:\\Users\\taara\\AppData\\Local\\Temp\\ipykernel_14864\\3504858758.py:1: FutureWarning: The default value of regex will change from True to False in a future version.\n",
            "  merged_data[\"PROD_NAME\"] = merged_data[\"PROD_NAME\"].str.replace(r'[0-9]+(G)','g')\n"
          ]
        },
        {
          "name": "stdout",
          "output_type": "stream",
          "text": [
            "count    258770.000000\n",
            "mean        182.324276\n",
            "std          64.955035\n",
            "min          70.000000\n",
            "25%         150.000000\n",
            "50%         170.000000\n",
            "75%         175.000000\n",
            "max         380.000000\n",
            "Name: 0, dtype: float64\n"
          ]
        },
        {
          "data": {
            "text/plain": [
              "<AxesSubplot:ylabel='Frequency'>"
            ]
          },
          "execution_count": 30,
          "metadata": {},
          "output_type": "execute_result"
        },
        {
          "data": {
            "image/png": "[encoded data removed]",
            "text/plain": [
              "<Figure size 432x288 with 1 Axes>"
            ]
          },
          "metadata": {
            "needs_background": "light"
          },
          "output_type": "display_data"
        }
      ],
      "source": [
        "merged_data[\"PROD_NAME\"] = merged_data[\"PROD_NAME\"].str.replace(r\"[0-9]+(G)\", \"g\")\n",
        "pack_sizes = (\n",
        "    merged_data[\"PROD_NAME\"]\n",
        "    .str.extract(r\"([0-9]+[gG])\")[0]\n",
        "    .str.replace(\"g\", \"\")\n",
        "    .astype(\"float\")\n",
        ")\n",
        "print(pack_sizes.describe())\n",
        "pack_sizes.plot.hist()"
      ]
    },
    {
      "cell_type": "code",
      "execution_count": 31,
      "metadata": {
        "colab": {
          "base_uri": "https://localhost:8080/"
        },
        "id": "dXPiNg-NcEy8",
        "outputId": "3b198f50-b4e2-4ceb-a5cc-40730723c14a"
      },
      "outputs": [
        {
          "data": {
            "text/plain": [
              "Burger         1564\n",
              "CCs            4551\n",
              "Cheetos        2927\n",
              "Cheezels       4603\n",
              "Cobs           9693\n",
              "Dorito         3183\n",
              "Doritos       24962\n",
              "French         1418\n",
              "Grain          6272\n",
              "GrnWves        1468\n",
              "Infuzions     11057\n",
              "Infzns         3144\n",
              "Kettle        41288\n",
              "NCC            1419\n",
              "Natural        6050\n",
              "Old            9324\n",
              "Pringles      25102\n",
              "RRD           11894\n",
              "Red            5885\n",
              "Smith          2963\n",
              "Smiths        28860\n",
              "Snbts          1576\n",
              "Sunbites       1432\n",
              "Thins         14075\n",
              "Tostitos       9471\n",
              "Twisties       9454\n",
              "Tyrrells       6442\n",
              "WW            10320\n",
              "Woolworths     4437\n",
              "Name: PROD_NAME, dtype: int64"
            ]
          },
          "execution_count": 31,
          "metadata": {},
          "output_type": "execute_result"
        }
      ],
      "source": [
        "merged_data[\"PROD_NAME\"].str.split().str[0].value_counts().sort_index()"
      ]
    },
    {
      "cell_type": "code",
      "execution_count": 32,
      "metadata": {
        "colab": {
          "base_uri": "https://localhost:8080/",
          "height": 295
        },
        "id": "2wqh8mLlcEwX",
        "outputId": "1fdab89a-d9c2-48e9-9d11-904a9302fad0"
      },
      "outputs": [
        {
          "data": {
            "text/plain": [
              "[Red, Rock, Deli, Sp, Salt, &, Truffle, g]        1498\n",
              "[Red, Rock, Deli, Thai, Chilli&Lime, 150g]        1495\n",
              "[Red, Rock, Deli, SR, Salsa, &, Mzzrlla, 150g]    1458\n",
              "[Red, Rock, Deli, Chikn&Garlic, Aioli, 150g]      1434\n",
              "Name: PROD_NAME, dtype: int64"
            ]
          },
          "execution_count": 32,
          "metadata": {},
          "output_type": "execute_result"
        }
      ],
      "source": [
        "merged_data[\"PROD_NAME\"].str.split()[\n",
        "    merged_data[\"PROD_NAME\"].str.split().str[0] == \"Red\"\n",
        "].value_counts()"
      ]
    },
    {
      "cell_type": "code",
      "execution_count": 33,
      "metadata": {
        "id": "SFNuBXBncEt2"
      },
      "outputs": [],
      "source": [
        "merged_data[\"Cleaned_Brand_Names\"] = merged_data[\"PROD_NAME\"].str.split().str[0]"
      ]
    },
    {
      "cell_type": "code",
      "execution_count": 34,
      "metadata": {
        "id": "IguRhNLIcEqc"
      },
      "outputs": [],
      "source": [
        "def clean_brand_names(line):\n",
        "    brand = line[\"Cleaned_Brand_Names\"]\n",
        "    if brand == \"Dorito\":\n",
        "        return \"Doritos\"\n",
        "    elif brand == \"GrnWves\" or brand == \"Grain\":\n",
        "        return \"Grain Waves\"\n",
        "    elif brand == \"Infzns\":\n",
        "        return \"Infuzions\"\n",
        "    elif brand == \"Natural\" or brand == \"NCC\":\n",
        "        return \"Natural Chip Co\"\n",
        "    elif brand == \"Red\":\n",
        "        return \"RRD\"\n",
        "    elif brand == \"Smith\":\n",
        "        return \"Smiths\"\n",
        "    elif brand == \"Snbts\":\n",
        "        return \"Sunbites\"\n",
        "    elif brand == \"WW\":\n",
        "        return \"Woolworths\"\n",
        "    else:\n",
        "        return brand"
      ]
    },
    {
      "cell_type": "code",
      "execution_count": 35,
      "metadata": {
        "id": "3Rs5p2V3cEnw"
      },
      "outputs": [],
      "source": [
        "merged_data[\"Cleaned_Brand_Names\"] = merged_data.apply(\n",
        "    lambda line: clean_brand_names(line), axis=1\n",
        ")"
      ]
    },
    {
      "cell_type": "code",
      "execution_count": 36,
      "metadata": {
        "colab": {
          "base_uri": "https://localhost:8080/",
          "height": 357
        },
        "id": "jZlJgZlHcEky",
        "outputId": "29a63110-1a1c-470d-ea3d-14db840caadb"
      },
      "outputs": [
        {
          "data": {
            "text/plain": [
              "<AxesSubplot:>"
            ]
          },
          "execution_count": 36,
          "metadata": {},
          "output_type": "execute_result"
        },
        {
          "data": {
            "image/png": "[encoded data removed]",
            "text/plain": [
              "<Figure size 720x360 with 1 Axes>"
            ]
          },
          "metadata": {
            "needs_background": "light"
          },
          "output_type": "display_data"
        }
      ],
      "source": [
        "merged_data[\"Cleaned_Brand_Names\"].value_counts(ascending=True).plot.barh(\n",
        "    figsize=(10, 5)\n",
        ")"
      ]
    },
    {
      "cell_type": "code",
      "execution_count": 37,
      "metadata": {
        "colab": {
          "base_uri": "https://localhost:8080/"
        },
        "id": "fBdrc5ZIcEhD",
        "outputId": "fc3b05d6-30c6-41ff-d7e2-ab1abd74603a"
      },
      "outputs": [
        {
          "data": {
            "text/plain": [
              "LYLTY_CARD_NBR         0\n",
              "LIFESTAGE              0\n",
              "PREMIUM_CUSTOMER       0\n",
              "DATE                   0\n",
              "STORE_NBR              0\n",
              "TXN_ID                 0\n",
              "PROD_NBR               0\n",
              "PROD_NAME              0\n",
              "PROD_QTY               0\n",
              "TOT_SALES              0\n",
              "Cleaned_Brand_Names    0\n",
              "dtype: int64"
            ]
          },
          "execution_count": 37,
          "metadata": {},
          "output_type": "execute_result"
        }
      ],
      "source": [
        "merged_data.isnull().sum()"
      ]
    },
    {
      "cell_type": "code",
      "execution_count": 38,
      "metadata": {
        "colab": {
          "base_uri": "https://localhost:8080/",
          "height": 703
        },
        "id": "TPLt0LIAlbTe",
        "outputId": "6bea9959-b278-450a-d43b-e9bf925247fd"
      },
      "outputs": [
        {
          "data": {
            "text/html": [
              "<div>\n",
              "<style scoped>\n",
              "    .dataframe tbody tr th:only-of-type {\n",
              "        vertical-align: middle;\n",
              "    }\n",
              "\n",
              "    .dataframe tbody tr th {\n",
              "        vertical-align: top;\n",
              "    }\n",
              "\n",
              "    .dataframe thead th {\n",
              "        text-align: right;\n",
              "    }\n",
              "</style>\n",
              "<table border=\"1\" class=\"dataframe\">\n",
              "  <thead>\n",
              "    <tr style=\"text-align: right;\">\n",
              "      <th></th>\n",
              "      <th></th>\n",
              "      <th>sum</th>\n",
              "      <th>mean</th>\n",
              "    </tr>\n",
              "    <tr>\n",
              "      <th>LIFESTAGE</th>\n",
              "      <th>PREMIUM_CUSTOMER</th>\n",
              "      <th></th>\n",
              "      <th></th>\n",
              "    </tr>\n",
              "  </thead>\n",
              "  <tbody>\n",
              "    <tr>\n",
              "      <th>OLDER FAMILIES</th>\n",
              "      <th>Budget</th>\n",
              "      <td>168363.25</td>\n",
              "      <td>7.269570</td>\n",
              "    </tr>\n",
              "    <tr>\n",
              "      <th>YOUNG SINGLES/COUPLES</th>\n",
              "      <th>Mainstream</th>\n",
              "      <td>157621.60</td>\n",
              "      <td>7.558339</td>\n",
              "    </tr>\n",
              "    <tr>\n",
              "      <th>RETIREES</th>\n",
              "      <th>Mainstream</th>\n",
              "      <td>155677.05</td>\n",
              "      <td>7.252262</td>\n",
              "    </tr>\n",
              "    <tr>\n",
              "      <th>YOUNG FAMILIES</th>\n",
              "      <th>Budget</th>\n",
              "      <td>139345.85</td>\n",
              "      <td>7.287201</td>\n",
              "    </tr>\n",
              "    <tr>\n",
              "      <th rowspan=\"3\" valign=\"top\">OLDER SINGLES/COUPLES</th>\n",
              "      <th>Budget</th>\n",
              "      <td>136769.80</td>\n",
              "      <td>7.430315</td>\n",
              "    </tr>\n",
              "    <tr>\n",
              "      <th>Mainstream</th>\n",
              "      <td>133393.80</td>\n",
              "      <td>7.282116</td>\n",
              "    </tr>\n",
              "    <tr>\n",
              "      <th>Premium</th>\n",
              "      <td>132263.15</td>\n",
              "      <td>7.449766</td>\n",
              "    </tr>\n",
              "    <tr>\n",
              "      <th>RETIREES</th>\n",
              "      <th>Budget</th>\n",
              "      <td>113147.80</td>\n",
              "      <td>7.443445</td>\n",
              "    </tr>\n",
              "    <tr>\n",
              "      <th>OLDER FAMILIES</th>\n",
              "      <th>Mainstream</th>\n",
              "      <td>103445.55</td>\n",
              "      <td>7.262395</td>\n",
              "    </tr>\n",
              "    <tr>\n",
              "      <th>RETIREES</th>\n",
              "      <th>Premium</th>\n",
              "      <td>97646.05</td>\n",
              "      <td>7.456174</td>\n",
              "    </tr>\n",
              "    <tr>\n",
              "      <th>YOUNG FAMILIES</th>\n",
              "      <th>Mainstream</th>\n",
              "      <td>92788.75</td>\n",
              "      <td>7.189025</td>\n",
              "    </tr>\n",
              "    <tr>\n",
              "      <th>MIDAGE SINGLES/COUPLES</th>\n",
              "      <th>Mainstream</th>\n",
              "      <td>90803.85</td>\n",
              "      <td>7.647284</td>\n",
              "    </tr>\n",
              "    <tr>\n",
              "      <th>YOUNG FAMILIES</th>\n",
              "      <th>Premium</th>\n",
              "      <td>84025.50</td>\n",
              "      <td>7.266756</td>\n",
              "    </tr>\n",
              "    <tr>\n",
              "      <th>OLDER FAMILIES</th>\n",
              "      <th>Premium</th>\n",
              "      <td>80658.40</td>\n",
              "      <td>7.208079</td>\n",
              "    </tr>\n",
              "    <tr>\n",
              "      <th>YOUNG SINGLES/COUPLES</th>\n",
              "      <th>Budget</th>\n",
              "      <td>61141.60</td>\n",
              "      <td>6.615624</td>\n",
              "    </tr>\n",
              "    <tr>\n",
              "      <th>MIDAGE SINGLES/COUPLES</th>\n",
              "      <th>Premium</th>\n",
              "      <td>58432.65</td>\n",
              "      <td>7.112056</td>\n",
              "    </tr>\n",
              "    <tr>\n",
              "      <th>YOUNG SINGLES/COUPLES</th>\n",
              "      <th>Premium</th>\n",
              "      <td>41642.10</td>\n",
              "      <td>6.629852</td>\n",
              "    </tr>\n",
              "    <tr>\n",
              "      <th>MIDAGE SINGLES/COUPLES</th>\n",
              "      <th>Budget</th>\n",
              "      <td>35514.80</td>\n",
              "      <td>7.074661</td>\n",
              "    </tr>\n",
              "    <tr>\n",
              "      <th rowspan=\"3\" valign=\"top\">NEW FAMILIES</th>\n",
              "      <th>Budget</th>\n",
              "      <td>21928.45</td>\n",
              "      <td>7.297321</td>\n",
              "    </tr>\n",
              "    <tr>\n",
              "      <th>Mainstream</th>\n",
              "      <td>17013.90</td>\n",
              "      <td>7.317806</td>\n",
              "    </tr>\n",
              "    <tr>\n",
              "      <th>Premium</th>\n",
              "      <td>11491.10</td>\n",
              "      <td>7.231655</td>\n",
              "    </tr>\n",
              "  </tbody>\n",
              "</table>\n",
              "</div>"
            ],
            "text/plain": [
              "                                               sum      mean\n",
              "LIFESTAGE              PREMIUM_CUSTOMER                     \n",
              "OLDER FAMILIES         Budget            168363.25  7.269570\n",
              "YOUNG SINGLES/COUPLES  Mainstream        157621.60  7.558339\n",
              "RETIREES               Mainstream        155677.05  7.252262\n",
              "YOUNG FAMILIES         Budget            139345.85  7.287201\n",
              "OLDER SINGLES/COUPLES  Budget            136769.80  7.430315\n",
              "                       Mainstream        133393.80  7.282116\n",
              "                       Premium           132263.15  7.449766\n",
              "RETIREES               Budget            113147.80  7.443445\n",
              "OLDER FAMILIES         Mainstream        103445.55  7.262395\n",
              "RETIREES               Premium            97646.05  7.456174\n",
              "YOUNG FAMILIES         Mainstream         92788.75  7.189025\n",
              "MIDAGE SINGLES/COUPLES Mainstream         90803.85  7.647284\n",
              "YOUNG FAMILIES         Premium            84025.50  7.266756\n",
              "OLDER FAMILIES         Premium            80658.40  7.208079\n",
              "YOUNG SINGLES/COUPLES  Budget             61141.60  6.615624\n",
              "MIDAGE SINGLES/COUPLES Premium            58432.65  7.112056\n",
              "YOUNG SINGLES/COUPLES  Premium            41642.10  6.629852\n",
              "MIDAGE SINGLES/COUPLES Budget             35514.80  7.074661\n",
              "NEW FAMILIES           Budget             21928.45  7.297321\n",
              "                       Mainstream         17013.90  7.317806\n",
              "                       Premium            11491.10  7.231655"
            ]
          },
          "execution_count": 38,
          "metadata": {},
          "output_type": "execute_result"
        }
      ],
      "source": [
        "grouped_sales = pd.DataFrame(\n",
        "    merged_data.groupby([\"LIFESTAGE\", \"PREMIUM_CUSTOMER\"])[\"TOT_SALES\"].agg(\n",
        "        [\"sum\", \"mean\"]\n",
        "    )\n",
        ")\n",
        "grouped_sales.sort_values(ascending=False, by=\"sum\")"
      ]
    },
    {
      "cell_type": "code",
      "execution_count": 39,
      "metadata": {
        "colab": {
          "base_uri": "https://localhost:8080/"
        },
        "id": "UWtFfvqFlcPE",
        "outputId": "5cbf5073-8570-416e-a40f-14ce12b7e299"
      },
      "outputs": [
        {
          "data": {
            "text/plain": [
              "1933115.0000000002"
            ]
          },
          "execution_count": 39,
          "metadata": {},
          "output_type": "execute_result"
        }
      ],
      "source": [
        "grouped_sales[\"sum\"].sum()"
      ]
    },
    {
      "cell_type": "code",
      "execution_count": 40,
      "metadata": {
        "colab": {
          "base_uri": "https://localhost:8080/",
          "height": 317
        },
        "id": "_TI8rAJwlcLE",
        "outputId": "3ee958b9-42ba-4ae6-88aa-ffc9b330bdfb"
      },
      "outputs": [
        {
          "data": {
            "text/plain": [
              "<AxesSubplot:ylabel='LIFESTAGE,PREMIUM_CUSTOMER'>"
            ]
          },
          "execution_count": 40,
          "metadata": {},
          "output_type": "execute_result"
        },
        {
          "data": {
            "image/png": "[encoded data removed]",
            "text/plain": [
              "<Figure size 864x504 with 1 Axes>"
            ]
          },
          "metadata": {
            "needs_background": "light"
          },
          "output_type": "display_data"
        }
      ],
      "source": [
        "grouped_sales[\"sum\"].sort_values().plot.barh(figsize=(12, 7))"
      ]
    },
    {
      "cell_type": "code",
      "execution_count": 41,
      "metadata": {
        "colab": {
          "base_uri": "https://localhost:8080/",
          "height": 220
        },
        "id": "O3YErRCvlcIi",
        "outputId": "5aa3e363-4afb-4638-bd67-41d3a7bb427c"
      },
      "outputs": [
        {
          "data": {
            "image/png": "[encoded data removed]",
            "text/plain": [
              "<Figure size 936x360 with 1 Axes>"
            ]
          },
          "metadata": {
            "needs_background": "light"
          },
          "output_type": "display_data"
        }
      ],
      "source": [
        "# Values of each group\n",
        "\n",
        "bars1 = grouped_sales[\n",
        "    grouped_sales.index.get_level_values(\"PREMIUM_CUSTOMER\") == \"Budget\"\n",
        "][\"sum\"]\n",
        "bars2 = grouped_sales[\n",
        "    grouped_sales.index.get_level_values(\"PREMIUM_CUSTOMER\") == \"Mainstream\"\n",
        "][\"sum\"]\n",
        "bars3 = grouped_sales[\n",
        "    grouped_sales.index.get_level_values(\"PREMIUM_CUSTOMER\") == \"Premium\"\n",
        "][\"sum\"]\n",
        "\n",
        "bars1_text = (bars1 / sum(grouped_sales[\"sum\"])).apply(\"{:.1%}\".format)\n",
        "bars2_text = (bars2 / sum(grouped_sales[\"sum\"])).apply(\"{:.1%}\".format)\n",
        "bars3_text = (bars3 / sum(grouped_sales[\"sum\"])).apply(\"{:.1%}\".format)\n",
        "\n",
        "# Names of group and bar width\n",
        "names = grouped_sales.index.get_level_values(\"LIFESTAGE\").unique()\n",
        "\n",
        "# The position of the bars on the x-axis\n",
        "r = np.arange(len(names))\n",
        "plt.figure(figsize=(13, 5))\n",
        "\n",
        "# Create brown bars\n",
        "budget_bar = plt.barh(r, bars1, edgecolor=\"grey\", height=1, label=\"Budget\")\n",
        "\n",
        "# Create green bars (middle), on top of the firs ones\n",
        "mains_bar = plt.barh(\n",
        "    r, bars2, left=bars1, edgecolor=\"grey\", height=1, label=\"Mainstream\"\n",
        ")\n",
        "# Create green bars (top)\n",
        "tmp_bar = np.add(bars1, bars2)\n",
        "prem_bar = plt.barh(r, bars3, left=bars2, edgecolor=\"grey\", height=1, label=\"Premium\")\n",
        "\n",
        "for i in range(7):\n",
        "    budget_width = budget_bar[i].get_width()\n",
        "    budget_main_width = budget_width + mains_bar[i].get_width()\n",
        "    plt.text(budget_width / 2, i, bars1_text[i], va=\"center\", ha=\"center\", size=8)\n",
        "    plt.text(\n",
        "        budget_width + mains_bar[i].get_width() / 2,\n",
        "        i,\n",
        "        bars2_text[i],\n",
        "        va=\"center\",\n",
        "        ha=\"center\",\n",
        "        size=8,\n",
        "    )\n",
        "    plt.text(\n",
        "        budget_main_width + prem_bar[i].get_width() / 2,\n",
        "        i,\n",
        "        bars3_text[i],\n",
        "        va=\"center\",\n",
        "        ha=\"center\",\n",
        "        size=8,\n",
        "    )\n",
        "\n",
        "plt.yticks(r, names)\n",
        "plt.ylabel(\"LIFESTAGE\")\n",
        "plt.xlabel(\"TOTAL SALES\")\n",
        "plt.legend(loc=\"center left\", bbox_to_anchor=(1.0, 0.5))\n",
        "plt.title(\"Total Sales per Lifestage\")\n",
        "plt.savefig(\"lifestage_sales.png\", bbox_inches=\"tight\")\n",
        "plt.show()"
      ]
    },
    {
      "cell_type": "code",
      "execution_count": 42,
      "metadata": {
        "colab": {
          "base_uri": "https://localhost:8080/"
        },
        "id": "QRwieNAplcGl",
        "outputId": "bfcfccea-7a3d-430b-d8fd-56f04a3a5cb7"
      },
      "outputs": [
        {
          "name": "stdout",
          "output_type": "stream",
          "text": [
            "Top contributor per LIFESTAGE by PREMIUM category\n",
            "LIFESTAGE\n",
            "NEW FAMILIES                  Budget\n",
            "OLDER FAMILIES                Budget\n",
            "OLDER SINGLES/COUPLES         Budget\n",
            "YOUNG FAMILIES                Budget\n",
            "MIDAGE SINGLES/COUPLES    Mainstream\n",
            "RETIREES                  Mainstream\n",
            "YOUNG SINGLES/COUPLES     Mainstream\n",
            "Name: PREMIUM_CUSTOMER, dtype: object\n"
          ]
        }
      ],
      "source": [
        "stage_agg_prem = (\n",
        "    merged_data.groupby(\"LIFESTAGE\")[\"PREMIUM_CUSTOMER\"]\n",
        "    .agg(pd.Series.mode)\n",
        "    .sort_values()\n",
        ")\n",
        "print(\"Top contributor per LIFESTAGE by PREMIUM category\")\n",
        "print(stage_agg_prem)"
      ]
    },
    {
      "cell_type": "code",
      "execution_count": 43,
      "metadata": {
        "colab": {
          "base_uri": "https://localhost:8080/",
          "height": 703
        },
        "id": "ogqb5EHFlcCZ",
        "outputId": "d8147057-3609-431f-c239-485316f58a8f"
      },
      "outputs": [
        {
          "data": {
            "text/html": [
              "<div>\n",
              "<style scoped>\n",
              "    .dataframe tbody tr th:only-of-type {\n",
              "        vertical-align: middle;\n",
              "    }\n",
              "\n",
              "    .dataframe tbody tr th {\n",
              "        vertical-align: top;\n",
              "    }\n",
              "\n",
              "    .dataframe thead th {\n",
              "        text-align: right;\n",
              "    }\n",
              "</style>\n",
              "<table border=\"1\" class=\"dataframe\">\n",
              "  <thead>\n",
              "    <tr style=\"text-align: right;\">\n",
              "      <th></th>\n",
              "      <th></th>\n",
              "      <th>LYLTY_CARD_NBR</th>\n",
              "    </tr>\n",
              "    <tr>\n",
              "      <th>LIFESTAGE</th>\n",
              "      <th>PREMIUM_CUSTOMER</th>\n",
              "      <th></th>\n",
              "    </tr>\n",
              "  </thead>\n",
              "  <tbody>\n",
              "    <tr>\n",
              "      <th>YOUNG SINGLES/COUPLES</th>\n",
              "      <th>Mainstream</th>\n",
              "      <td>8088</td>\n",
              "    </tr>\n",
              "    <tr>\n",
              "      <th>RETIREES</th>\n",
              "      <th>Mainstream</th>\n",
              "      <td>6479</td>\n",
              "    </tr>\n",
              "    <tr>\n",
              "      <th rowspan=\"3\" valign=\"top\">OLDER SINGLES/COUPLES</th>\n",
              "      <th>Mainstream</th>\n",
              "      <td>4930</td>\n",
              "    </tr>\n",
              "    <tr>\n",
              "      <th>Budget</th>\n",
              "      <td>4929</td>\n",
              "    </tr>\n",
              "    <tr>\n",
              "      <th>Premium</th>\n",
              "      <td>4750</td>\n",
              "    </tr>\n",
              "    <tr>\n",
              "      <th>OLDER FAMILIES</th>\n",
              "      <th>Budget</th>\n",
              "      <td>4675</td>\n",
              "    </tr>\n",
              "    <tr>\n",
              "      <th>RETIREES</th>\n",
              "      <th>Budget</th>\n",
              "      <td>4454</td>\n",
              "    </tr>\n",
              "    <tr>\n",
              "      <th>YOUNG FAMILIES</th>\n",
              "      <th>Budget</th>\n",
              "      <td>4017</td>\n",
              "    </tr>\n",
              "    <tr>\n",
              "      <th>RETIREES</th>\n",
              "      <th>Premium</th>\n",
              "      <td>3872</td>\n",
              "    </tr>\n",
              "    <tr>\n",
              "      <th>YOUNG SINGLES/COUPLES</th>\n",
              "      <th>Budget</th>\n",
              "      <td>3779</td>\n",
              "    </tr>\n",
              "    <tr>\n",
              "      <th>MIDAGE SINGLES/COUPLES</th>\n",
              "      <th>Mainstream</th>\n",
              "      <td>3340</td>\n",
              "    </tr>\n",
              "    <tr>\n",
              "      <th>OLDER FAMILIES</th>\n",
              "      <th>Mainstream</th>\n",
              "      <td>2831</td>\n",
              "    </tr>\n",
              "    <tr>\n",
              "      <th>YOUNG FAMILIES</th>\n",
              "      <th>Mainstream</th>\n",
              "      <td>2728</td>\n",
              "    </tr>\n",
              "    <tr>\n",
              "      <th>YOUNG SINGLES/COUPLES</th>\n",
              "      <th>Premium</th>\n",
              "      <td>2574</td>\n",
              "    </tr>\n",
              "    <tr>\n",
              "      <th>YOUNG FAMILIES</th>\n",
              "      <th>Premium</th>\n",
              "      <td>2433</td>\n",
              "    </tr>\n",
              "    <tr>\n",
              "      <th>MIDAGE SINGLES/COUPLES</th>\n",
              "      <th>Premium</th>\n",
              "      <td>2431</td>\n",
              "    </tr>\n",
              "    <tr>\n",
              "      <th>OLDER FAMILIES</th>\n",
              "      <th>Premium</th>\n",
              "      <td>2273</td>\n",
              "    </tr>\n",
              "    <tr>\n",
              "      <th>MIDAGE SINGLES/COUPLES</th>\n",
              "      <th>Budget</th>\n",
              "      <td>1504</td>\n",
              "    </tr>\n",
              "    <tr>\n",
              "      <th rowspan=\"3\" valign=\"top\">NEW FAMILIES</th>\n",
              "      <th>Budget</th>\n",
              "      <td>1112</td>\n",
              "    </tr>\n",
              "    <tr>\n",
              "      <th>Mainstream</th>\n",
              "      <td>849</td>\n",
              "    </tr>\n",
              "    <tr>\n",
              "      <th>Premium</th>\n",
              "      <td>588</td>\n",
              "    </tr>\n",
              "  </tbody>\n",
              "</table>\n",
              "</div>"
            ],
            "text/plain": [
              "                                         LYLTY_CARD_NBR\n",
              "LIFESTAGE              PREMIUM_CUSTOMER                \n",
              "YOUNG SINGLES/COUPLES  Mainstream                  8088\n",
              "RETIREES               Mainstream                  6479\n",
              "OLDER SINGLES/COUPLES  Mainstream                  4930\n",
              "                       Budget                      4929\n",
              "                       Premium                     4750\n",
              "OLDER FAMILIES         Budget                      4675\n",
              "RETIREES               Budget                      4454\n",
              "YOUNG FAMILIES         Budget                      4017\n",
              "RETIREES               Premium                     3872\n",
              "YOUNG SINGLES/COUPLES  Budget                      3779\n",
              "MIDAGE SINGLES/COUPLES Mainstream                  3340\n",
              "OLDER FAMILIES         Mainstream                  2831\n",
              "YOUNG FAMILIES         Mainstream                  2728\n",
              "YOUNG SINGLES/COUPLES  Premium                     2574\n",
              "YOUNG FAMILIES         Premium                     2433\n",
              "MIDAGE SINGLES/COUPLES Premium                     2431\n",
              "OLDER FAMILIES         Premium                     2273\n",
              "MIDAGE SINGLES/COUPLES Budget                      1504\n",
              "NEW FAMILIES           Budget                      1112\n",
              "                       Mainstream                   849\n",
              "                       Premium                      588"
            ]
          },
          "execution_count": 43,
          "metadata": {},
          "output_type": "execute_result"
        }
      ],
      "source": [
        "unique_cust = (\n",
        "    merged_data.groupby([\"LIFESTAGE\", \"PREMIUM_CUSTOMER\"])[\"LYLTY_CARD_NBR\"]\n",
        "    .nunique()\n",
        "    .sort_values(ascending=False)\n",
        ")\n",
        "pd.DataFrame(unique_cust)"
      ]
    },
    {
      "cell_type": "code",
      "execution_count": 44,
      "metadata": {
        "colab": {
          "base_uri": "https://localhost:8080/",
          "height": 317
        },
        "id": "N_iPVE1Clb_I",
        "outputId": "e3cc03a7-a737-40b8-9c9d-046983a5a38c"
      },
      "outputs": [
        {
          "data": {
            "text/plain": [
              "<AxesSubplot:ylabel='LIFESTAGE,PREMIUM_CUSTOMER'>"
            ]
          },
          "execution_count": 44,
          "metadata": {},
          "output_type": "execute_result"
        },
        {
          "data": {
            "image/png": "[encoded data removed]",
            "text/plain": [
              "<Figure size 864x504 with 1 Axes>"
            ]
          },
          "metadata": {
            "needs_background": "light"
          },
          "output_type": "display_data"
        }
      ],
      "source": [
        "unique_cust.sort_values().plot.barh(figsize=(12, 7))"
      ]
    },
    {
      "cell_type": "code",
      "execution_count": 45,
      "metadata": {
        "colab": {
          "base_uri": "https://localhost:8080/",
          "height": 228
        },
        "id": "YxWVpJrJlbx0",
        "outputId": "1452c9d0-7219-4f18-aaf2-83037dadbf7f"
      },
      "outputs": [
        {
          "data": {
            "image/png": "[encoded data removed]",
            "text/plain": [
              "<Figure size 936x360 with 1 Axes>"
            ]
          },
          "metadata": {
            "needs_background": "light"
          },
          "output_type": "display_data"
        }
      ],
      "source": [
        "# Values of each group\n",
        "\n",
        "ncust_bars1 = unique_cust[\n",
        "    unique_cust.index.get_level_values(\"PREMIUM_CUSTOMER\") == \"Budget\"\n",
        "]\n",
        "ncust_bars2 = unique_cust[\n",
        "    unique_cust.index.get_level_values(\"PREMIUM_CUSTOMER\") == \"Mainstream\"\n",
        "]\n",
        "ncust_bars3 = unique_cust[\n",
        "    unique_cust.index.get_level_values(\"PREMIUM_CUSTOMER\") == \"Premium\"\n",
        "]\n",
        "\n",
        "ncust_bars1_text = (ncust_bars1 / sum(unique_cust)).apply(\"{:.1%}\".format)\n",
        "ncust_bars2_text = (ncust_bars2 / sum(unique_cust)).apply(\"{:.1%}\".format)\n",
        "ncust_bars3_text = (ncust_bars3 / sum(unique_cust)).apply(\"{:.1%}\".format)\n",
        "\n",
        "plt.figure(figsize=(13, 5))\n",
        "\n",
        "# Create brown bars\n",
        "budget_bar = plt.barh(r, ncust_bars1, edgecolor=\"grey\", height=1, label=\"Budget\")\n",
        "\n",
        "# Create green bars (middle), on top of the firs ones\n",
        "mains_bar = plt.barh(\n",
        "    r, ncust_bars2, left=ncust_bars1, edgecolor=\"grey\", height=1, label=\"Mainstream\"\n",
        ")\n",
        "# Create green bars (top)\n",
        "prem_bar = plt.barh(\n",
        "    r, ncust_bars3, left=ncust_bars2, edgecolor=\"grey\", height=1, label=\"Premium\"\n",
        ")\n",
        "\n",
        "for i in range(7):\n",
        "    budget_width = budget_bar[i].get_width()\n",
        "    budget_main_width = budget_width + mains_bar[i].get_width()\n",
        "    plt.text(budget_width / 2, i, ncust_bars1_text[i], va=\"center\", ha=\"center\", size=8)\n",
        "    plt.text(\n",
        "        budget_width + mains_bar[i].get_width() / 2,\n",
        "        i,\n",
        "        ncust_bars2_text[i],\n",
        "        va=\"center\",\n",
        "        ha=\"center\",\n",
        "        size=8,\n",
        "    )\n",
        "    plt.text(\n",
        "        budget_main_width + prem_bar[i].get_width() / 2,\n",
        "        i,\n",
        "        ncust_bars3_text[i],\n",
        "        va=\"center\",\n",
        "        ha=\"center\",\n",
        "        size=8,\n",
        "    )\n",
        "\n",
        "plt.yticks(r, names)\n",
        "plt.ylabel(\"LIFESTAGE\")\n",
        "plt.xlabel(\"UNIQUE CUSTOMERS\")\n",
        "plt.legend(loc=\"center left\", bbox_to_anchor=(1.0, 0.5))\n",
        "plt.title(\"Unique Customers per Lifestage\")\n",
        "plt.savefig(\"lifestage_customers.png\", bbox_inches=\"tight\")\n",
        "plt.show()"
      ]
    },
    {
      "cell_type": "code",
      "execution_count": 46,
      "metadata": {
        "colab": {
          "base_uri": "https://localhost:8080/",
          "height": 703
        },
        "id": "qlmCtX8Wp4Q5",
        "outputId": "82db5aa2-db0c-47d5-ea68-2d464850aa32"
      },
      "outputs": [
        {
          "data": {
            "text/html": [
              "<div>\n",
              "<style scoped>\n",
              "    .dataframe tbody tr th:only-of-type {\n",
              "        vertical-align: middle;\n",
              "    }\n",
              "\n",
              "    .dataframe tbody tr th {\n",
              "        vertical-align: top;\n",
              "    }\n",
              "\n",
              "    .dataframe thead th {\n",
              "        text-align: right;\n",
              "    }\n",
              "</style>\n",
              "<table border=\"1\" class=\"dataframe\">\n",
              "  <thead>\n",
              "    <tr style=\"text-align: right;\">\n",
              "      <th></th>\n",
              "      <th></th>\n",
              "      <th>mean</th>\n",
              "      <th>count</th>\n",
              "    </tr>\n",
              "    <tr>\n",
              "      <th>LIFESTAGE</th>\n",
              "      <th>PREMIUM_CUSTOMER</th>\n",
              "      <th></th>\n",
              "      <th></th>\n",
              "    </tr>\n",
              "  </thead>\n",
              "  <tbody>\n",
              "    <tr>\n",
              "      <th rowspan=\"3\" valign=\"top\">OLDER FAMILIES</th>\n",
              "      <th>Mainstream</th>\n",
              "      <td>5.031438</td>\n",
              "      <td>2831</td>\n",
              "    </tr>\n",
              "    <tr>\n",
              "      <th>Budget</th>\n",
              "      <td>4.954011</td>\n",
              "      <td>4675</td>\n",
              "    </tr>\n",
              "    <tr>\n",
              "      <th>Premium</th>\n",
              "      <td>4.923009</td>\n",
              "      <td>2273</td>\n",
              "    </tr>\n",
              "    <tr>\n",
              "      <th rowspan=\"3\" valign=\"top\">YOUNG FAMILIES</th>\n",
              "      <th>Budget</th>\n",
              "      <td>4.760269</td>\n",
              "      <td>4017</td>\n",
              "    </tr>\n",
              "    <tr>\n",
              "      <th>Premium</th>\n",
              "      <td>4.752569</td>\n",
              "      <td>2433</td>\n",
              "    </tr>\n",
              "    <tr>\n",
              "      <th>Mainstream</th>\n",
              "      <td>4.731305</td>\n",
              "      <td>2728</td>\n",
              "    </tr>\n",
              "    <tr>\n",
              "      <th rowspan=\"3\" valign=\"top\">OLDER SINGLES/COUPLES</th>\n",
              "      <th>Premium</th>\n",
              "      <td>3.737684</td>\n",
              "      <td>4750</td>\n",
              "    </tr>\n",
              "    <tr>\n",
              "      <th>Budget</th>\n",
              "      <td>3.734429</td>\n",
              "      <td>4929</td>\n",
              "    </tr>\n",
              "    <tr>\n",
              "      <th>Mainstream</th>\n",
              "      <td>3.715619</td>\n",
              "      <td>4930</td>\n",
              "    </tr>\n",
              "    <tr>\n",
              "      <th>MIDAGE SINGLES/COUPLES</th>\n",
              "      <th>Mainstream</th>\n",
              "      <td>3.555090</td>\n",
              "      <td>3340</td>\n",
              "    </tr>\n",
              "    <tr>\n",
              "      <th rowspan=\"2\" valign=\"top\">RETIREES</th>\n",
              "      <th>Budget</th>\n",
              "      <td>3.412887</td>\n",
              "      <td>4454</td>\n",
              "    </tr>\n",
              "    <tr>\n",
              "      <th>Premium</th>\n",
              "      <td>3.382231</td>\n",
              "      <td>3872</td>\n",
              "    </tr>\n",
              "    <tr>\n",
              "      <th rowspan=\"2\" valign=\"top\">MIDAGE SINGLES/COUPLES</th>\n",
              "      <th>Premium</th>\n",
              "      <td>3.379679</td>\n",
              "      <td>2431</td>\n",
              "    </tr>\n",
              "    <tr>\n",
              "      <th>Budget</th>\n",
              "      <td>3.337766</td>\n",
              "      <td>1504</td>\n",
              "    </tr>\n",
              "    <tr>\n",
              "      <th>RETIREES</th>\n",
              "      <th>Mainstream</th>\n",
              "      <td>3.313166</td>\n",
              "      <td>6479</td>\n",
              "    </tr>\n",
              "    <tr>\n",
              "      <th rowspan=\"3\" valign=\"top\">NEW FAMILIES</th>\n",
              "      <th>Mainstream</th>\n",
              "      <td>2.738516</td>\n",
              "      <td>849</td>\n",
              "    </tr>\n",
              "    <tr>\n",
              "      <th>Premium</th>\n",
              "      <td>2.702381</td>\n",
              "      <td>588</td>\n",
              "    </tr>\n",
              "    <tr>\n",
              "      <th>Budget</th>\n",
              "      <td>2.702338</td>\n",
              "      <td>1112</td>\n",
              "    </tr>\n",
              "    <tr>\n",
              "      <th rowspan=\"3\" valign=\"top\">YOUNG SINGLES/COUPLES</th>\n",
              "      <th>Mainstream</th>\n",
              "      <td>2.578388</td>\n",
              "      <td>8088</td>\n",
              "    </tr>\n",
              "    <tr>\n",
              "      <th>Budget</th>\n",
              "      <td>2.445621</td>\n",
              "      <td>3779</td>\n",
              "    </tr>\n",
              "    <tr>\n",
              "      <th>Premium</th>\n",
              "      <td>2.440171</td>\n",
              "      <td>2574</td>\n",
              "    </tr>\n",
              "  </tbody>\n",
              "</table>\n",
              "</div>"
            ],
            "text/plain": [
              "                                             mean  count\n",
              "LIFESTAGE              PREMIUM_CUSTOMER                 \n",
              "OLDER FAMILIES         Mainstream        5.031438   2831\n",
              "                       Budget            4.954011   4675\n",
              "                       Premium           4.923009   2273\n",
              "YOUNG FAMILIES         Budget            4.760269   4017\n",
              "                       Premium           4.752569   2433\n",
              "                       Mainstream        4.731305   2728\n",
              "OLDER SINGLES/COUPLES  Premium           3.737684   4750\n",
              "                       Budget            3.734429   4929\n",
              "                       Mainstream        3.715619   4930\n",
              "MIDAGE SINGLES/COUPLES Mainstream        3.555090   3340\n",
              "RETIREES               Budget            3.412887   4454\n",
              "                       Premium           3.382231   3872\n",
              "MIDAGE SINGLES/COUPLES Premium           3.379679   2431\n",
              "                       Budget            3.337766   1504\n",
              "RETIREES               Mainstream        3.313166   6479\n",
              "NEW FAMILIES           Mainstream        2.738516    849\n",
              "                       Premium           2.702381    588\n",
              "                       Budget            2.702338   1112\n",
              "YOUNG SINGLES/COUPLES  Mainstream        2.578388   8088\n",
              "                       Budget            2.445621   3779\n",
              "                       Premium           2.440171   2574"
            ]
          },
          "execution_count": 46,
          "metadata": {},
          "output_type": "execute_result"
        }
      ],
      "source": [
        "freq_per_cust = merged_data.groupby(\n",
        "    [\"LYLTY_CARD_NBR\", \"LIFESTAGE\", \"PREMIUM_CUSTOMER\"]\n",
        ").count()[\"DATE\"]\n",
        "\n",
        "freq_per_cust.groupby([\"LIFESTAGE\", \"PREMIUM_CUSTOMER\"]).agg(\n",
        "    [\"mean\", \"count\"]\n",
        ").sort_values(ascending=False, by=\"mean\")"
      ]
    },
    {
      "cell_type": "code",
      "execution_count": 47,
      "metadata": {
        "colab": {
          "base_uri": "https://localhost:8080/",
          "height": 703
        },
        "id": "WYgJFjUnp4ON",
        "outputId": "ac1f3d5b-aa82-4cf1-c49b-350fe2d1323b"
      },
      "outputs": [
        {
          "data": {
            "text/html": [
              "<div>\n",
              "<style scoped>\n",
              "    .dataframe tbody tr th:only-of-type {\n",
              "        vertical-align: middle;\n",
              "    }\n",
              "\n",
              "    .dataframe tbody tr th {\n",
              "        vertical-align: top;\n",
              "    }\n",
              "\n",
              "    .dataframe thead th {\n",
              "        text-align: right;\n",
              "    }\n",
              "</style>\n",
              "<table border=\"1\" class=\"dataframe\">\n",
              "  <thead>\n",
              "    <tr style=\"text-align: right;\">\n",
              "      <th></th>\n",
              "      <th></th>\n",
              "      <th>sum</th>\n",
              "      <th>mean</th>\n",
              "    </tr>\n",
              "    <tr>\n",
              "      <th>LIFESTAGE</th>\n",
              "      <th>PREMIUM_CUSTOMER</th>\n",
              "      <th></th>\n",
              "      <th></th>\n",
              "    </tr>\n",
              "  </thead>\n",
              "  <tbody>\n",
              "    <tr>\n",
              "      <th>MIDAGE SINGLES/COUPLES</th>\n",
              "      <th>Mainstream</th>\n",
              "      <td>90803.85</td>\n",
              "      <td>7.647284</td>\n",
              "    </tr>\n",
              "    <tr>\n",
              "      <th>YOUNG SINGLES/COUPLES</th>\n",
              "      <th>Mainstream</th>\n",
              "      <td>157621.60</td>\n",
              "      <td>7.558339</td>\n",
              "    </tr>\n",
              "    <tr>\n",
              "      <th>RETIREES</th>\n",
              "      <th>Premium</th>\n",
              "      <td>97646.05</td>\n",
              "      <td>7.456174</td>\n",
              "    </tr>\n",
              "    <tr>\n",
              "      <th>OLDER SINGLES/COUPLES</th>\n",
              "      <th>Premium</th>\n",
              "      <td>132263.15</td>\n",
              "      <td>7.449766</td>\n",
              "    </tr>\n",
              "    <tr>\n",
              "      <th>RETIREES</th>\n",
              "      <th>Budget</th>\n",
              "      <td>113147.80</td>\n",
              "      <td>7.443445</td>\n",
              "    </tr>\n",
              "    <tr>\n",
              "      <th>OLDER SINGLES/COUPLES</th>\n",
              "      <th>Budget</th>\n",
              "      <td>136769.80</td>\n",
              "      <td>7.430315</td>\n",
              "    </tr>\n",
              "    <tr>\n",
              "      <th rowspan=\"2\" valign=\"top\">NEW FAMILIES</th>\n",
              "      <th>Mainstream</th>\n",
              "      <td>17013.90</td>\n",
              "      <td>7.317806</td>\n",
              "    </tr>\n",
              "    <tr>\n",
              "      <th>Budget</th>\n",
              "      <td>21928.45</td>\n",
              "      <td>7.297321</td>\n",
              "    </tr>\n",
              "    <tr>\n",
              "      <th>YOUNG FAMILIES</th>\n",
              "      <th>Budget</th>\n",
              "      <td>139345.85</td>\n",
              "      <td>7.287201</td>\n",
              "    </tr>\n",
              "    <tr>\n",
              "      <th>OLDER SINGLES/COUPLES</th>\n",
              "      <th>Mainstream</th>\n",
              "      <td>133393.80</td>\n",
              "      <td>7.282116</td>\n",
              "    </tr>\n",
              "    <tr>\n",
              "      <th>OLDER FAMILIES</th>\n",
              "      <th>Budget</th>\n",
              "      <td>168363.25</td>\n",
              "      <td>7.269570</td>\n",
              "    </tr>\n",
              "    <tr>\n",
              "      <th>YOUNG FAMILIES</th>\n",
              "      <th>Premium</th>\n",
              "      <td>84025.50</td>\n",
              "      <td>7.266756</td>\n",
              "    </tr>\n",
              "    <tr>\n",
              "      <th>OLDER FAMILIES</th>\n",
              "      <th>Mainstream</th>\n",
              "      <td>103445.55</td>\n",
              "      <td>7.262395</td>\n",
              "    </tr>\n",
              "    <tr>\n",
              "      <th>RETIREES</th>\n",
              "      <th>Mainstream</th>\n",
              "      <td>155677.05</td>\n",
              "      <td>7.252262</td>\n",
              "    </tr>\n",
              "    <tr>\n",
              "      <th>NEW FAMILIES</th>\n",
              "      <th>Premium</th>\n",
              "      <td>11491.10</td>\n",
              "      <td>7.231655</td>\n",
              "    </tr>\n",
              "    <tr>\n",
              "      <th>OLDER FAMILIES</th>\n",
              "      <th>Premium</th>\n",
              "      <td>80658.40</td>\n",
              "      <td>7.208079</td>\n",
              "    </tr>\n",
              "    <tr>\n",
              "      <th>YOUNG FAMILIES</th>\n",
              "      <th>Mainstream</th>\n",
              "      <td>92788.75</td>\n",
              "      <td>7.189025</td>\n",
              "    </tr>\n",
              "    <tr>\n",
              "      <th rowspan=\"2\" valign=\"top\">MIDAGE SINGLES/COUPLES</th>\n",
              "      <th>Premium</th>\n",
              "      <td>58432.65</td>\n",
              "      <td>7.112056</td>\n",
              "    </tr>\n",
              "    <tr>\n",
              "      <th>Budget</th>\n",
              "      <td>35514.80</td>\n",
              "      <td>7.074661</td>\n",
              "    </tr>\n",
              "    <tr>\n",
              "      <th rowspan=\"2\" valign=\"top\">YOUNG SINGLES/COUPLES</th>\n",
              "      <th>Premium</th>\n",
              "      <td>41642.10</td>\n",
              "      <td>6.629852</td>\n",
              "    </tr>\n",
              "    <tr>\n",
              "      <th>Budget</th>\n",
              "      <td>61141.60</td>\n",
              "      <td>6.615624</td>\n",
              "    </tr>\n",
              "  </tbody>\n",
              "</table>\n",
              "</div>"
            ],
            "text/plain": [
              "                                               sum      mean\n",
              "LIFESTAGE              PREMIUM_CUSTOMER                     \n",
              "MIDAGE SINGLES/COUPLES Mainstream         90803.85  7.647284\n",
              "YOUNG SINGLES/COUPLES  Mainstream        157621.60  7.558339\n",
              "RETIREES               Premium            97646.05  7.456174\n",
              "OLDER SINGLES/COUPLES  Premium           132263.15  7.449766\n",
              "RETIREES               Budget            113147.80  7.443445\n",
              "OLDER SINGLES/COUPLES  Budget            136769.80  7.430315\n",
              "NEW FAMILIES           Mainstream         17013.90  7.317806\n",
              "                       Budget             21928.45  7.297321\n",
              "YOUNG FAMILIES         Budget            139345.85  7.287201\n",
              "OLDER SINGLES/COUPLES  Mainstream        133393.80  7.282116\n",
              "OLDER FAMILIES         Budget            168363.25  7.269570\n",
              "YOUNG FAMILIES         Premium            84025.50  7.266756\n",
              "OLDER FAMILIES         Mainstream        103445.55  7.262395\n",
              "RETIREES               Mainstream        155677.05  7.252262\n",
              "NEW FAMILIES           Premium            11491.10  7.231655\n",
              "OLDER FAMILIES         Premium            80658.40  7.208079\n",
              "YOUNG FAMILIES         Mainstream         92788.75  7.189025\n",
              "MIDAGE SINGLES/COUPLES Premium            58432.65  7.112056\n",
              "                       Budget             35514.80  7.074661\n",
              "YOUNG SINGLES/COUPLES  Premium            41642.10  6.629852\n",
              "                       Budget             61141.60  6.615624"
            ]
          },
          "execution_count": 47,
          "metadata": {},
          "output_type": "execute_result"
        }
      ],
      "source": [
        "grouped_sales.sort_values(ascending=False, by=\"mean\")"
      ]
    },
    {
      "cell_type": "code",
      "execution_count": 48,
      "metadata": {
        "colab": {
          "base_uri": "https://localhost:8080/"
        },
        "id": "n7IkWwYGp4JD",
        "outputId": "6701a5cc-45be-455e-c501-0d507cbcd9b9"
      },
      "outputs": [
        {
          "name": "stdout",
          "output_type": "stream",
          "text": [
            "1.8542040107534844e-281\n"
          ]
        },
        {
          "data": {
            "text/plain": [
              "True"
            ]
          },
          "execution_count": 48,
          "metadata": {},
          "output_type": "execute_result"
        }
      ],
      "source": [
        "mainstream = merged_data[\"PREMIUM_CUSTOMER\"] == \"Mainstream\"\n",
        "young_midage = (merged_data[\"LIFESTAGE\"] == \"MIDAGE SINGLES/COUPLES\") | (\n",
        "    merged_data[\"LIFESTAGE\"] == \"YOUNG SINGLES/COUPLES\"\n",
        ")\n",
        "\n",
        "budget_premium = (merged_data[\"PREMIUM_CUSTOMER\"] == \"Budget\") | (\n",
        "    merged_data[\"PREMIUM_CUSTOMER\"] == \"Premium\"\n",
        ")\n",
        "\n",
        "a = merged_data[young_midage & mainstream][\"TOT_SALES\"]\n",
        "b = merged_data[young_midage & budget_premium][\"TOT_SALES\"]\n",
        "stat, pval = ttest_ind(a.values, b.values, equal_var=False)\n",
        "\n",
        "print(pval)\n",
        "pval < 0.0000001"
      ]
    },
    {
      "cell_type": "code",
      "execution_count": 49,
      "metadata": {
        "colab": {
          "base_uri": "https://localhost:8080/"
        },
        "id": "dqxTprmqp4GM",
        "outputId": "16a39205-e54d-4849-eb89-fbe6976c2804"
      },
      "outputs": [
        {
          "data": {
            "text/plain": [
              "LIFESTAGE               PREMIUM_CUSTOMER\n",
              "MIDAGE SINGLES/COUPLES  Budget              Kettle\n",
              "YOUNG FAMILIES          Premium             Kettle\n",
              "                        Mainstream          Kettle\n",
              "                        Budget              Kettle\n",
              "RETIREES                Premium             Kettle\n",
              "                        Mainstream          Kettle\n",
              "                        Budget              Kettle\n",
              "OLDER SINGLES/COUPLES   Premium             Kettle\n",
              "YOUNG SINGLES/COUPLES   Mainstream          Kettle\n",
              "OLDER SINGLES/COUPLES   Mainstream          Kettle\n",
              "OLDER FAMILIES          Mainstream          Kettle\n",
              "                        Budget              Kettle\n",
              "NEW FAMILIES            Premium             Kettle\n",
              "                        Mainstream          Kettle\n",
              "                        Budget              Kettle\n",
              "MIDAGE SINGLES/COUPLES  Premium             Kettle\n",
              "                        Mainstream          Kettle\n",
              "OLDER SINGLES/COUPLES   Budget              Kettle\n",
              "YOUNG SINGLES/COUPLES   Premium             Kettle\n",
              "OLDER FAMILIES          Premium             Smiths\n",
              "YOUNG SINGLES/COUPLES   Budget              Smiths\n",
              "Name: Cleaned_Brand_Names, dtype: object"
            ]
          },
          "execution_count": 49,
          "metadata": {},
          "output_type": "execute_result"
        }
      ],
      "source": [
        "merged_data.groupby([\"LIFESTAGE\", \"PREMIUM_CUSTOMER\"])[\"Cleaned_Brand_Names\"].agg(\n",
        "    pd.Series.mode\n",
        ").sort_values()"
      ]
    },
    {
      "cell_type": "code",
      "execution_count": 50,
      "metadata": {
        "colab": {
          "base_uri": "https://localhost:8080/",
          "height": 1000
        },
        "id": "2Qk7gMTGp4D0",
        "outputId": "23a7bf50-dbcc-4401-a288-6a1393f6dc98"
      },
      "outputs": [
        {
          "name": "stdout",
          "output_type": "stream",
          "text": [
            "========== YOUNG SINGLES/COUPLES - Premium ==========\n",
            "Kettle     838\n",
            "Smiths     826\n",
            "Doritos    570\n",
            "Name: Cleaned_Brand_Names, dtype: int64\n"
          ]
        },
        {
          "data": {
            "image/png": "[encoded data removed]",
            "text/plain": [
              "<Figure size 360x72 with 1 Axes>"
            ]
          },
          "metadata": {
            "needs_background": "light"
          },
          "output_type": "display_data"
        },
        {
          "name": "stdout",
          "output_type": "stream",
          "text": [
            "========== YOUNG SINGLES/COUPLES - Budget ==========\n",
            "Smiths     1245\n",
            "Kettle     1211\n",
            "Doritos     899\n",
            "Name: Cleaned_Brand_Names, dtype: int64\n"
          ]
        },
        {
          "data": {
            "image/png": "[encoded data removed]",
            "text/plain": [
              "<Figure size 360x72 with 1 Axes>"
            ]
          },
          "metadata": {
            "needs_background": "light"
          },
          "output_type": "display_data"
        },
        {
          "name": "stdout",
          "output_type": "stream",
          "text": [
            "========== YOUNG SINGLES/COUPLES - Mainstream ==========\n",
            "Kettle      3844\n",
            "Doritos     2541\n",
            "Pringles    2315\n",
            "Name: Cleaned_Brand_Names, dtype: int64\n"
          ]
        },
        {
          "data": {
            "image/png": "[encoded data removed]",
            "text/plain": [
              "<Figure size 360x72 with 1 Axes>"
            ]
          },
          "metadata": {
            "needs_background": "light"
          },
          "output_type": "display_data"
        },
        {
          "name": "stdout",
          "output_type": "stream",
          "text": [
            "========== MIDAGE SINGLES/COUPLES - Premium ==========\n",
            "Kettle     1206\n",
            "Smiths      986\n",
            "Doritos     837\n",
            "Name: Cleaned_Brand_Names, dtype: int64\n"
          ]
        },
        {
          "data": {
            "image/png": "[encoded data removed]",
            "text/plain": [
              "<Figure size 360x72 with 1 Axes>"
            ]
          },
          "metadata": {
            "needs_background": "light"
          },
          "output_type": "display_data"
        },
        {
          "name": "stdout",
          "output_type": "stream",
          "text": [
            "========== MIDAGE SINGLES/COUPLES - Budget ==========\n",
            "Kettle     713\n",
            "Smiths     633\n",
            "Doritos    533\n",
            "Name: Cleaned_Brand_Names, dtype: int64\n"
          ]
        },
        {
          "data": {
            "image/png": "[encoded data removed]",
            "text/plain": [
              "<Figure size 360x72 with 1 Axes>"
            ]
          },
          "metadata": {
            "needs_background": "light"
          },
          "output_type": "display_data"
        },
        {
          "name": "stdout",
          "output_type": "stream",
          "text": [
            "========== MIDAGE SINGLES/COUPLES - Mainstream ==========\n",
            "Kettle     2136\n",
            "Smiths     1337\n",
            "Doritos    1291\n",
            "Name: Cleaned_Brand_Names, dtype: int64\n"
          ]
        },
        {
          "data": {
            "image/png": "[encoded data removed]",
            "text/plain": [
              "<Figure size 360x72 with 1 Axes>"
            ]
          },
          "metadata": {
            "needs_background": "light"
          },
          "output_type": "display_data"
        },
        {
          "name": "stdout",
          "output_type": "stream",
          "text": [
            "========== NEW FAMILIES - Premium ==========\n",
            "Kettle      247\n",
            "Doritos     167\n",
            "Pringles    165\n",
            "Name: Cleaned_Brand_Names, dtype: int64\n"
          ]
        },
        {
          "data": {
            "image/png": "[encoded data removed]",
            "text/plain": [
              "<Figure size 360x72 with 1 Axes>"
            ]
          },
          "metadata": {
            "needs_background": "light"
          },
          "output_type": "display_data"
        },
        {
          "name": "stdout",
          "output_type": "stream",
          "text": [
            "========== NEW FAMILIES - Budget ==========\n",
            "Kettle     510\n",
            "Doritos    343\n",
            "Smiths     341\n",
            "Name: Cleaned_Brand_Names, dtype: int64\n"
          ]
        },
        {
          "data": {
            "image/png": "[encoded data removed]",
            "text/plain": [
              "<Figure size 360x72 with 1 Axes>"
            ]
          },
          "metadata": {
            "needs_background": "light"
          },
          "output_type": "display_data"
        },
        {
          "name": "stdout",
          "output_type": "stream",
          "text": [
            "========== NEW FAMILIES - Mainstream ==========\n",
            "Kettle     414\n",
            "Doritos    274\n",
            "Smiths     254\n",
            "Name: Cleaned_Brand_Names, dtype: int64\n"
          ]
        },
        {
          "data": {
            "image/png": "[encoded data removed]",
            "text/plain": [
              "<Figure size 360x72 with 1 Axes>"
            ]
          },
          "metadata": {
            "needs_background": "light"
          },
          "output_type": "display_data"
        },
        {
          "name": "stdout",
          "output_type": "stream",
          "text": [
            "========== OLDER FAMILIES - Premium ==========\n",
            "Smiths     1515\n",
            "Kettle     1512\n",
            "Doritos    1065\n",
            "Name: Cleaned_Brand_Names, dtype: int64\n"
          ]
        },
        {
          "data": {
            "image/png": "[encoded data removed]",
            "text/plain": [
              "<Figure size 360x72 with 1 Axes>"
            ]
          },
          "metadata": {
            "needs_background": "light"
          },
          "output_type": "display_data"
        },
        {
          "name": "stdout",
          "output_type": "stream",
          "text": [
            "========== OLDER FAMILIES - Budget ==========\n",
            "Kettle     3320\n",
            "Smiths     3093\n",
            "Doritos    2351\n",
            "Name: Cleaned_Brand_Names, dtype: int64\n"
          ]
        },
        {
          "data": {
            "image/png": "[encoded data removed]",
            "text/plain": [
              "<Figure size 360x72 with 1 Axes>"
            ]
          },
          "metadata": {
            "needs_background": "light"
          },
          "output_type": "display_data"
        },
        {
          "name": "stdout",
          "output_type": "stream",
          "text": [
            "========== OLDER FAMILIES - Mainstream ==========\n",
            "Kettle     2019\n",
            "Smiths     1835\n",
            "Doritos    1449\n",
            "Name: Cleaned_Brand_Names, dtype: int64\n"
          ]
        },
        {
          "data": {
            "image/png": "[encoded data removed]",
            "text/plain": [
              "<Figure size 360x72 with 1 Axes>"
            ]
          },
          "metadata": {
            "needs_background": "light"
          },
          "output_type": "display_data"
        },
        {
          "name": "stdout",
          "output_type": "stream",
          "text": [
            "========== OLDER SINGLES/COUPLES - Premium ==========\n",
            "Kettle     2947\n",
            "Smiths     2042\n",
            "Doritos    1958\n",
            "Name: Cleaned_Brand_Names, dtype: int64\n"
          ]
        },
        {
          "data": {
            "image/png": "[encoded data removed]",
            "text/plain": [
              "<Figure size 360x72 with 1 Axes>"
            ]
          },
          "metadata": {
            "needs_background": "light"
          },
          "output_type": "display_data"
        },
        {
          "name": "stdout",
          "output_type": "stream",
          "text": [
            "========== OLDER SINGLES/COUPLES - Budget ==========\n",
            "Kettle     3065\n",
            "Smiths     2098\n",
            "Doritos    1954\n",
            "Name: Cleaned_Brand_Names, dtype: int64\n"
          ]
        },
        {
          "data": {
            "image/png": "[encoded data removed]",
            "text/plain": [
              "<Figure size 360x72 with 1 Axes>"
            ]
          },
          "metadata": {
            "needs_background": "light"
          },
          "output_type": "display_data"
        },
        {
          "name": "stdout",
          "output_type": "stream",
          "text": [
            "========== OLDER SINGLES/COUPLES - Mainstream ==========\n",
            "Kettle     2835\n",
            "Smiths     2180\n",
            "Doritos    2008\n",
            "Name: Cleaned_Brand_Names, dtype: int64\n"
          ]
        },
        {
          "data": {
            "image/png": "[encoded data removed]",
            "text/plain": [
              "<Figure size 360x72 with 1 Axes>"
            ]
          },
          "metadata": {
            "needs_background": "light"
          },
          "output_type": "display_data"
        },
        {
          "name": "stdout",
          "output_type": "stream",
          "text": [
            "========== RETIREES - Premium ==========\n",
            "Kettle     2216\n",
            "Smiths     1458\n",
            "Doritos    1409\n",
            "Name: Cleaned_Brand_Names, dtype: int64\n"
          ]
        },
        {
          "data": {
            "image/png": "[encoded data removed]",
            "text/plain": [
              "<Figure size 360x72 with 1 Axes>"
            ]
          },
          "metadata": {
            "needs_background": "light"
          },
          "output_type": "display_data"
        },
        {
          "name": "stdout",
          "output_type": "stream",
          "text": [
            "========== RETIREES - Budget ==========\n",
            "Kettle     2592\n",
            "Doritos    1742\n",
            "Smiths     1679\n",
            "Name: Cleaned_Brand_Names, dtype: int64\n"
          ]
        },
        {
          "data": {
            "image/png": "[encoded data removed]",
            "text/plain": [
              "<Figure size 360x72 with 1 Axes>"
            ]
          },
          "metadata": {
            "needs_background": "light"
          },
          "output_type": "display_data"
        },
        {
          "name": "stdout",
          "output_type": "stream",
          "text": [
            "========== RETIREES - Mainstream ==========\n",
            "Kettle     3386\n",
            "Smiths     2476\n",
            "Doritos    2320\n",
            "Name: Cleaned_Brand_Names, dtype: int64\n"
          ]
        },
        {
          "data": {
            "image/png": "[encoded data removed]",
            "text/plain": [
              "<Figure size 360x72 with 1 Axes>"
            ]
          },
          "metadata": {
            "needs_background": "light"
          },
          "output_type": "display_data"
        },
        {
          "name": "stdout",
          "output_type": "stream",
          "text": [
            "========== YOUNG FAMILIES - Premium ==========\n",
            "Kettle     1745\n",
            "Smiths     1442\n",
            "Doritos    1129\n",
            "Name: Cleaned_Brand_Names, dtype: int64\n"
          ]
        },
        {
          "data": {
            "image/png": "[encoded data removed]",
            "text/plain": [
              "<Figure size 360x72 with 1 Axes>"
            ]
          },
          "metadata": {
            "needs_background": "light"
          },
          "output_type": "display_data"
        },
        {
          "name": "stdout",
          "output_type": "stream",
          "text": [
            "========== YOUNG FAMILIES - Budget ==========\n",
            "Kettle     2743\n",
            "Smiths     2459\n",
            "Doritos    1996\n",
            "Name: Cleaned_Brand_Names, dtype: int64\n"
          ]
        },
        {
          "data": {
            "image/png": "[encoded data removed]",
            "text/plain": [
              "<Figure size 360x72 with 1 Axes>"
            ]
          },
          "metadata": {
            "needs_background": "light"
          },
          "output_type": "display_data"
        },
        {
          "name": "stdout",
          "output_type": "stream",
          "text": [
            "========== YOUNG FAMILIES - Mainstream ==========\n",
            "Kettle     1789\n",
            "Smiths     1772\n",
            "Doritos    1309\n",
            "Name: Cleaned_Brand_Names, dtype: int64\n"
          ]
        },
        {
          "data": {
            "image/png": "[encoded data removed]",
            "text/plain": [
              "<Figure size 360x72 with 1 Axes>"
            ]
          },
          "metadata": {
            "needs_background": "light"
          },
          "output_type": "display_data"
        }
      ],
      "source": [
        "for stage in merged_data[\"LIFESTAGE\"].unique():\n",
        "    for prem in merged_data[\"PREMIUM_CUSTOMER\"].unique():\n",
        "        print(\"==========\", stage, \"-\", prem, \"==========\")\n",
        "        summary = (\n",
        "            merged_data[\n",
        "                (merged_data[\"LIFESTAGE\"] == stage)\n",
        "                & (merged_data[\"PREMIUM_CUSTOMER\"] == prem)\n",
        "            ][\"Cleaned_Brand_Names\"]\n",
        "            .value_counts()\n",
        "            .head(3)\n",
        "        )\n",
        "        print(summary)\n",
        "        plt.figure()\n",
        "        summary.plot.barh(figsize=(5, 1))\n",
        "        plt.show()"
      ]
    },
    {
      "cell_type": "markdown",
      "metadata": {
        "id": "RD6_-ENIqjc6"
      },
      "source": [
        "Every segment had Kettle as the most purchased brand. Every segment except \"YOUNG SINGLES/COUPLES Mainstream\" had Smiths as their second most purchased brand. \"YOUNG SINGLES/COUPLES Mainstream\" had Doritos as their second most purchased brand.\n"
      ]
    },
    {
      "cell_type": "code",
      "execution_count": 51,
      "metadata": {
        "colab": {
          "base_uri": "https://localhost:8080/",
          "height": 367
        },
        "id": "2sh0E1ONp4Af",
        "outputId": "07ff0906-6000-4bf8-95cb-4ee73e3ce40c"
      },
      "outputs": [
        {
          "ename": "ModuleNotFoundError",
          "evalue": "No module named 'mlxtend'",
          "output_type": "error",
          "traceback": [
            "\u001b[1;31m---------------------------------------------------------------------------\u001b[0m",
            "\u001b[1;31mModuleNotFoundError\u001b[0m                       Traceback (most recent call last)",
            "\u001b[1;32md:\\Taaran Jain Files\\Projects\\New Data\\Quantium Virtual Experience Program\\Task 1.ipynb Cell 66\u001b[0m in \u001b[0;36m<cell line: 1>\u001b[1;34m()\u001b[0m\n\u001b[1;32m----> <a href='vscode-notebook-cell:/d%3A/Taaran%20Jain%20Files/Projects/New%20Data/Quantium%20Virtual%20Experience%20Program/Task%201.ipynb#Y123sZmlsZQ%3D%3D?line=0'>1</a>\u001b[0m \u001b[39mfrom\u001b[39;00m \u001b[39mmlxtend\u001b[39;00m\u001b[39m.\u001b[39;00m\u001b[39mfrequent_patterns\u001b[39;00m \u001b[39mimport\u001b[39;00m apriori\n\u001b[0;32m      <a href='vscode-notebook-cell:/d%3A/Taaran%20Jain%20Files/Projects/New%20Data/Quantium%20Virtual%20Experience%20Program/Task%201.ipynb#Y123sZmlsZQ%3D%3D?line=1'>2</a>\u001b[0m \u001b[39mfrom\u001b[39;00m \u001b[39mmlxtend\u001b[39;00m\u001b[39m.\u001b[39;00m\u001b[39mfrequent_patterns\u001b[39;00m \u001b[39mimport\u001b[39;00m association_rules\n\u001b[0;32m      <a href='vscode-notebook-cell:/d%3A/Taaran%20Jain%20Files/Projects/New%20Data/Quantium%20Virtual%20Experience%20Program/Task%201.ipynb#Y123sZmlsZQ%3D%3D?line=3'>4</a>\u001b[0m temp \u001b[39m=\u001b[39m merged_data\u001b[39m.\u001b[39mreset_index()\u001b[39m.\u001b[39mrename(columns \u001b[39m=\u001b[39m {\u001b[39m\"\u001b[39m\u001b[39mindex\u001b[39m\u001b[39m\"\u001b[39m: \u001b[39m\"\u001b[39m\u001b[39mtransaction\u001b[39m\u001b[39m\"\u001b[39m})\n",
            "\u001b[1;31mModuleNotFoundError\u001b[0m: No module named 'mlxtend'"
          ]
        }
      ],
      "source": [
        "temp = merged_data.reset_index().rename(columns={\"index\": \"transaction\"})\n",
        "temp[\"Segment\"] = temp[\"LIFESTAGE\"] + \" - \" + temp[\"PREMIUM_CUSTOMER\"]\n",
        "segment_brand_encode = pd.concat(\n",
        "    [pd.get_dummies(temp[\"Segment\"]), pd.get_dummies(temp[\"Cleaned_Brand_Names\"])],\n",
        "    axis=1,\n",
        ")\n",
        "\n",
        "frequent_sets = apriori(segment_brand_encode, min_support=0.01, use_colnames=True)\n",
        "rules = association_rules(frequent_sets, metric=\"lift\", min_threshold=1)\n",
        "\n",
        "set_temp = temp[\"Segment\"].unique()\n",
        "rules[rules[\"antecedents\"].apply(lambda x: list(x)).apply(lambda x: x in set_temp)]"
      ]
    },
    {
      "cell_type": "code",
      "execution_count": null,
      "metadata": {
        "colab": {
          "base_uri": "https://localhost:8080/",
          "height": 1000
        },
        "id": "tgQ59sJJp39i",
        "outputId": "3106da0b-0e29-4cb7-e3a7-8b50d455b5af"
      },
      "outputs": [
        {
          "name": "stdout",
          "output_type": "stream",
          "text": [
            "========== YOUNG SINGLES/COUPLES - Premium ==========\n",
            "134.0     537\n",
            "150.0     961\n",
            "175.0    1587\n",
            "Name: Pack_Size, dtype: int64\n"
          ]
        },
        {
          "data": {
            "image/png": "[encoded data removed]",
            "text/plain": [
              "<Figure size 360x72 with 1 Axes>"
            ]
          },
          "metadata": {
            "needs_background": "light",
            "tags": []
          },
          "output_type": "display_data"
        },
        {
          "name": "stdout",
          "output_type": "stream",
          "text": [
            "========== YOUNG SINGLES/COUPLES - Budget ==========\n",
            "134.0     832\n",
            "150.0    1439\n",
            "175.0    2262\n",
            "Name: Pack_Size, dtype: int64\n"
          ]
        },
        {
          "data": {
            "image/png": "[encoded data removed]",
            "text/plain": [
              "<Figure size 360x72 with 1 Axes>"
            ]
          },
          "metadata": {
            "needs_background": "light",
            "tags": []
          },
          "output_type": "display_data"
        },
        {
          "name": "stdout",
          "output_type": "stream",
          "text": [
            "========== YOUNG SINGLES/COUPLES - Mainstream ==========\n",
            "134.0    2315\n",
            "150.0    3159\n",
            "175.0    4928\n",
            "Name: Pack_Size, dtype: int64\n"
          ]
        },
        {
          "data": {
            "image/png": "[encoded data removed]",
            "text/plain": [
              "<Figure size 360x72 with 1 Axes>"
            ]
          },
          "metadata": {
            "needs_background": "light",
            "tags": []
          },
          "output_type": "display_data"
        },
        {
          "name": "stdout",
          "output_type": "stream",
          "text": [
            "========== MIDAGE SINGLES/COUPLES - Premium ==========\n",
            "134.0     781\n",
            "150.0    1285\n",
            "175.0    2034\n",
            "Name: Pack_Size, dtype: int64\n"
          ]
        },
        {
          "data": {
            "image/png": "[encoded data removed]",
            "text/plain": [
              "<Figure size 360x72 with 1 Axes>"
            ]
          },
          "metadata": {
            "needs_background": "light",
            "tags": []
          },
          "output_type": "display_data"
        },
        {
          "name": "stdout",
          "output_type": "stream",
          "text": [
            "========== MIDAGE SINGLES/COUPLES - Budget ==========\n",
            "134.0     449\n",
            "150.0     821\n",
            "175.0    1256\n",
            "Name: Pack_Size, dtype: int64\n"
          ]
        },
        {
          "data": {
            "image/png": "[encoded data removed]",
            "text/plain": [
              "<Figure size 360x72 with 1 Axes>"
            ]
          },
          "metadata": {
            "needs_background": "light",
            "tags": []
          },
          "output_type": "display_data"
        },
        {
          "name": "stdout",
          "output_type": "stream",
          "text": [
            "========== MIDAGE SINGLES/COUPLES - Mainstream ==========\n",
            "134.0    1159\n",
            "150.0    1819\n",
            "175.0    2912\n",
            "Name: Pack_Size, dtype: int64\n"
          ]
        },
        {
          "data": {
            "image/png": "[encoded data removed]",
            "text/plain": [
              "<Figure size 360x72 with 1 Axes>"
            ]
          },
          "metadata": {
            "needs_background": "light",
            "tags": []
          },
          "output_type": "display_data"
        },
        {
          "name": "stdout",
          "output_type": "stream",
          "text": [
            "========== NEW FAMILIES - Premium ==========\n",
            "134.0    165\n",
            "150.0    245\n",
            "175.0    371\n",
            "Name: Pack_Size, dtype: int64\n"
          ]
        },
        {
          "data": {
            "image/png": "[encoded data removed]",
            "text/plain": [
              "<Figure size 360x72 with 1 Axes>"
            ]
          },
          "metadata": {
            "needs_background": "light",
            "tags": []
          },
          "output_type": "display_data"
        },
        {
          "name": "stdout",
          "output_type": "stream",
          "text": [
            "========== NEW FAMILIES - Budget ==========\n",
            "134.0    309\n",
            "150.0    448\n",
            "175.0    763\n",
            "Name: Pack_Size, dtype: int64\n"
          ]
        },
        {
          "data": {
            "image/png": "[encoded data removed]",
            "text/plain": [
              "<Figure size 360x72 with 1 Axes>"
            ]
          },
          "metadata": {
            "needs_background": "light",
            "tags": []
          },
          "output_type": "display_data"
        },
        {
          "name": "stdout",
          "output_type": "stream",
          "text": [
            "========== NEW FAMILIES - Mainstream ==========\n",
            "134.0    224\n",
            "150.0    384\n",
            "175.0    579\n",
            "Name: Pack_Size, dtype: int64\n"
          ]
        },
        {
          "data": {
            "image/png": "[encoded data removed]",
            "text/plain": [
              "<Figure size 360x72 with 1 Axes>"
            ]
          },
          "metadata": {
            "needs_background": "light",
            "tags": []
          },
          "output_type": "display_data"
        },
        {
          "name": "stdout",
          "output_type": "stream",
          "text": [
            "========== OLDER FAMILIES - Premium ==========\n",
            "134.0    1014\n",
            "150.0    1750\n",
            "175.0    2747\n",
            "Name: Pack_Size, dtype: int64\n"
          ]
        },
        {
          "data": {
            "image/png": "[encoded data removed]",
            "text/plain": [
              "<Figure size 360x72 with 1 Axes>"
            ]
          },
          "metadata": {
            "needs_background": "light",
            "tags": []
          },
          "output_type": "display_data"
        },
        {
          "name": "stdout",
          "output_type": "stream",
          "text": [
            "========== OLDER FAMILIES - Budget ==========\n",
            "134.0    1996\n",
            "150.0    3708\n",
            "175.0    5662\n",
            "Name: Pack_Size, dtype: int64\n"
          ]
        },
        {
          "data": {
            "image/png": "[encoded data removed]",
            "text/plain": [
              "<Figure size 360x72 with 1 Axes>"
            ]
          },
          "metadata": {
            "needs_background": "light",
            "tags": []
          },
          "output_type": "display_data"
        },
        {
          "name": "stdout",
          "output_type": "stream",
          "text": [
            "========== OLDER FAMILIES - Mainstream ==========\n",
            "134.0    1234\n",
            "150.0    2261\n",
            "175.0    3489\n",
            "Name: Pack_Size, dtype: int64\n"
          ]
        },
        {
          "data": {
            "image/png": "[encoded data removed]",
            "text/plain": [
              "<Figure size 360x72 with 1 Axes>"
            ]
          },
          "metadata": {
            "needs_background": "light",
            "tags": []
          },
          "output_type": "display_data"
        },
        {
          "name": "stdout",
          "output_type": "stream",
          "text": [
            "========== OLDER SINGLES/COUPLES - Premium ==========\n",
            "134.0    1744\n",
            "150.0    2854\n",
            "175.0    4382\n",
            "Name: Pack_Size, dtype: int64\n"
          ]
        },
        {
          "data": {
            "image/png": "[encoded data removed]",
            "text/plain": [
              "<Figure size 360x72 with 1 Axes>"
            ]
          },
          "metadata": {
            "needs_background": "light",
            "tags": []
          },
          "output_type": "display_data"
        },
        {
          "name": "stdout",
          "output_type": "stream",
          "text": [
            "========== OLDER SINGLES/COUPLES - Budget ==========\n",
            "134.0    1843\n",
            "150.0    2899\n",
            "175.0    4535\n",
            "Name: Pack_Size, dtype: int64\n"
          ]
        },
        {
          "data": {
            "image/png": "[encoded data removed]",
            "text/plain": [
              "<Figure size 360x72 with 1 Axes>"
            ]
          },
          "metadata": {
            "needs_background": "light",
            "tags": []
          },
          "output_type": "display_data"
        },
        {
          "name": "stdout",
          "output_type": "stream",
          "text": [
            "========== OLDER SINGLES/COUPLES - Mainstream ==========\n",
            "134.0    1720\n",
            "150.0    2875\n",
            "175.0    4422\n",
            "Name: Pack_Size, dtype: int64\n"
          ]
        },
        {
          "data": {
            "image/png": "[encoded data removed]",
            "text/plain": [
              "<Figure size 360x72 with 1 Axes>"
            ]
          },
          "metadata": {
            "needs_background": "light",
            "tags": []
          },
          "output_type": "display_data"
        },
        {
          "name": "stdout",
          "output_type": "stream",
          "text": [
            "========== RETIREES - Premium ==========\n",
            "134.0    1331\n",
            "150.0    2015\n",
            "175.0    3232\n",
            "Name: Pack_Size, dtype: int64\n"
          ]
        },
        {
          "data": {
            "image/png": "[encoded data removed]",
            "text/plain": [
              "<Figure size 360x72 with 1 Axes>"
            ]
          },
          "metadata": {
            "needs_background": "light",
            "tags": []
          },
          "output_type": "display_data"
        },
        {
          "name": "stdout",
          "output_type": "stream",
          "text": [
            "========== RETIREES - Budget ==========\n",
            "134.0    1517\n",
            "150.0    2381\n",
            "175.0    3768\n",
            "Name: Pack_Size, dtype: int64\n"
          ]
        },
        {
          "data": {
            "image/png": "[encoded data removed]",
            "text/plain": [
              "<Figure size 360x72 with 1 Axes>"
            ]
          },
          "metadata": {
            "needs_background": "light",
            "tags": []
          },
          "output_type": "display_data"
        },
        {
          "name": "stdout",
          "output_type": "stream",
          "text": [
            "========== RETIREES - Mainstream ==========\n",
            "134.0    2103\n",
            "150.0    3415\n",
            "175.0    5187\n",
            "Name: Pack_Size, dtype: int64\n"
          ]
        },
        {
          "data": {
            "image/png": "[encoded data removed]",
            "text/plain": [
              "<Figure size 360x72 with 1 Axes>"
            ]
          },
          "metadata": {
            "needs_background": "light",
            "tags": []
          },
          "output_type": "display_data"
        },
        {
          "name": "stdout",
          "output_type": "stream",
          "text": [
            "========== YOUNG FAMILIES - Premium ==========\n",
            "134.0    1007\n",
            "150.0    1832\n",
            "175.0    2926\n",
            "Name: Pack_Size, dtype: int64\n"
          ]
        },
        {
          "data": {
            "image/png": "[encoded data removed]",
            "text/plain": [
              "<Figure size 360x72 with 1 Axes>"
            ]
          },
          "metadata": {
            "needs_background": "light",
            "tags": []
          },
          "output_type": "display_data"
        },
        {
          "name": "stdout",
          "output_type": "stream",
          "text": [
            "========== YOUNG FAMILIES - Budget ==========\n",
            "134.0    1674\n",
            "150.0    2981\n",
            "175.0    4800\n",
            "Name: Pack_Size, dtype: int64\n"
          ]
        },
        {
          "data": {
            "image/png": "[encoded data removed]",
            "text/plain": [
              "<Figure size 360x72 with 1 Axes>"
            ]
          },
          "metadata": {
            "needs_background": "light",
            "tags": []
          },
          "output_type": "display_data"
        },
        {
          "name": "stdout",
          "output_type": "stream",
          "text": [
            "========== YOUNG FAMILIES - Mainstream ==========\n",
            "134.0    1148\n",
            "150.0    2101\n",
            "175.0    3087\n",
            "Name: Pack_Size, dtype: int64\n"
          ]
        },
        {
          "data": {
            "image/png": "[encoded data removed]",
            "text/plain": [
              "<Figure size 360x72 with 1 Axes>"
            ]
          },
          "metadata": {
            "needs_background": "light",
            "tags": []
          },
          "output_type": "display_data"
        }
      ],
      "source": [
        "merged_pack = pd.concat([merged_data, pack_sizes.rename(\"Pack_Size\")], axis=1)\n",
        "\n",
        "for stage in merged_data[\"LIFESTAGE\"].unique():\n",
        "    for prem in merged_data[\"PREMIUM_CUSTOMER\"].unique():\n",
        "        print(\"==========\", stage, \"-\", prem, \"==========\")\n",
        "        summary = (\n",
        "            merged_pack[\n",
        "                (merged_pack[\"LIFESTAGE\"] == stage)\n",
        "                & (merged_pack[\"PREMIUM_CUSTOMER\"] == prem)\n",
        "            ][\"Pack_Size\"]\n",
        "            .value_counts()\n",
        "            .head(3)\n",
        "            .sort_index()\n",
        "        )\n",
        "        print(summary)\n",
        "        plt.figure()\n",
        "        summary.plot.barh(figsize=(5, 1))\n",
        "        plt.show()"
      ]
    },
    {
      "cell_type": "code",
      "execution_count": null,
      "metadata": {
        "colab": {
          "base_uri": "https://localhost:8080/"
        },
        "id": "X4Y-t4MEp37M",
        "outputId": "ee0a594e-1c4b-4ffc-b1f9-59be08a092b9"
      },
      "outputs": [
        {
          "data": {
            "text/plain": [
              "LIFESTAGE               PREMIUM_CUSTOMER\n",
              "OLDER FAMILIES          Mainstream          9.804309\n",
              "                        Budget              9.639572\n",
              "                        Premium             9.578091\n",
              "YOUNG FAMILIES          Budget              9.238486\n",
              "                        Premium             9.209207\n",
              "                        Mainstream          9.180352\n",
              "OLDER SINGLES/COUPLES   Premium             7.154947\n",
              "                        Budget              7.145466\n",
              "                        Mainstream          7.098783\n",
              "MIDAGE SINGLES/COUPLES  Mainstream          6.796108\n",
              "RETIREES                Budget              6.458015\n",
              "                        Premium             6.426653\n",
              "MIDAGE SINGLES/COUPLES  Premium             6.386672\n",
              "                        Budget              6.313830\n",
              "RETIREES                Mainstream          6.253743\n",
              "NEW FAMILIES            Mainstream          5.087161\n",
              "                        Premium             5.028912\n",
              "                        Budget              5.009892\n",
              "YOUNG SINGLES/COUPLES   Mainstream          4.776459\n",
              "                        Budget              4.411485\n",
              "                        Premium             4.402098\n",
              "dtype: float64"
            ]
          },
          "execution_count": 75,
          "metadata": {
            "tags": []
          },
          "output_type": "execute_result"
        }
      ],
      "source": [
        "(\n",
        "    temp.groupby([\"LIFESTAGE\", \"PREMIUM_CUSTOMER\"])[\"PROD_QTY\"].sum()\n",
        "    / temp.groupby([\"LIFESTAGE\", \"PREMIUM_CUSTOMER\"])[\"LYLTY_CARD_NBR\"].nunique()\n",
        ").sort_values(ascending=False)"
      ]
    },
    {
      "cell_type": "code",
      "execution_count": null,
      "metadata": {
        "colab": {
          "base_uri": "https://localhost:8080/",
          "height": 187
        },
        "id": "VZ1V9inCp34g",
        "outputId": "385680e9-b002-4174-8881-4d85a17ee778"
      },
      "outputs": [
        {
          "data": {
            "image/png": "[encoded data removed]",
            "text/plain": [
              "<Figure size 1080x288 with 1 Axes>"
            ]
          },
          "metadata": {
            "needs_background": "light",
            "tags": []
          },
          "output_type": "display_data"
        }
      ],
      "source": [
        "(\n",
        "    temp.groupby([\"LIFESTAGE\", \"PREMIUM_CUSTOMER\"])[\"PROD_QTY\"].sum()\n",
        "    / temp.groupby([\"LIFESTAGE\", \"PREMIUM_CUSTOMER\"])[\"LYLTY_CARD_NBR\"].nunique()\n",
        ").unstack().plot.bar(figsize=(15, 4), rot=0)\n",
        "plt.legend(loc=\"center left\", bbox_to_anchor=(1.0, 0.5))\n",
        "plt.savefig(\"Average purchase quantity per segment.png\", bbox_inches=\"tight\")"
      ]
    },
    {
      "cell_type": "code",
      "execution_count": null,
      "metadata": {
        "colab": {
          "base_uri": "https://localhost:8080/"
        },
        "id": "qoMDDpN0p32H",
        "outputId": "1ccea593-5823-48e5-cbab-516a3e0961d7"
      },
      "outputs": [
        {
          "data": {
            "text/plain": [
              "Segment\n",
              "YOUNG SINGLES/COUPLES - Mainstream     4.071485\n",
              "MIDAGE SINGLES/COUPLES - Mainstream    4.000101\n",
              "RETIREES - Budget                      3.924883\n",
              "RETIREES - Premium                     3.921323\n",
              "NEW FAMILIES - Budget                  3.919251\n",
              "NEW FAMILIES - Mainstream              3.916581\n",
              "OLDER SINGLES/COUPLES - Premium        3.887220\n",
              "OLDER SINGLES/COUPLES - Budget         3.877022\n",
              "NEW FAMILIES - Premium                 3.871743\n",
              "RETIREES - Mainstream                  3.833343\n",
              "OLDER SINGLES/COUPLES - Mainstream     3.803800\n",
              "YOUNG FAMILIES - Budget                3.753659\n",
              "MIDAGE SINGLES/COUPLES - Premium       3.752915\n",
              "YOUNG FAMILIES - Premium               3.752402\n",
              "OLDER FAMILIES - Budget                3.733344\n",
              "MIDAGE SINGLES/COUPLES - Budget        3.728496\n",
              "OLDER FAMILIES - Mainstream            3.727383\n",
              "YOUNG FAMILIES - Mainstream            3.707097\n",
              "OLDER FAMILIES - Premium               3.704625\n",
              "YOUNG SINGLES/COUPLES - Premium        3.645518\n",
              "YOUNG SINGLES/COUPLES - Budget         3.637681\n",
              "Name: Unit_Price, dtype: float64"
            ]
          },
          "execution_count": 77,
          "metadata": {
            "tags": []
          },
          "output_type": "execute_result"
        }
      ],
      "source": [
        "# Average chips price per transaction by segments\n",
        "\n",
        "temp[\"Unit_Price\"] = temp[\"TOT_SALES\"] / temp[\"PROD_QTY\"]\n",
        "temp.groupby([\"Segment\"]).mean()[\"Unit_Price\"].sort_values(ascending=False)"
      ]
    },
    {
      "cell_type": "code",
      "execution_count": null,
      "metadata": {
        "colab": {
          "base_uri": "https://localhost:8080/",
          "height": 203
        },
        "id": "08Hpfykwp3zT",
        "outputId": "4a1cb5d8-10b2-4ef3-ebdd-b7bd5d59cfdd"
      },
      "outputs": [
        {
          "data": {
            "text/plain": [
              "<matplotlib.legend.Legend at 0x7efe8dd11630>"
            ]
          },
          "execution_count": 78,
          "metadata": {
            "tags": []
          },
          "output_type": "execute_result"
        },
        {
          "data": {
            "image/png": "[encoded data removed]",
            "text/plain": [
              "<Figure size 1080x288 with 1 Axes>"
            ]
          },
          "metadata": {
            "needs_background": "light",
            "tags": []
          },
          "output_type": "display_data"
        }
      ],
      "source": [
        "temp.groupby([\"LIFESTAGE\", \"PREMIUM_CUSTOMER\"]).mean()[\"Unit_Price\"].unstack().plot.bar(\n",
        "    figsize=(15, 4), rot=0\n",
        ")\n",
        "plt.legend(loc=\"center left\", bbox_to_anchor=(1, 0.5))"
      ]
    },
    {
      "cell_type": "code",
      "execution_count": null,
      "metadata": {
        "colab": {
          "base_uri": "https://localhost:8080/",
          "height": 673
        },
        "id": "dTQdYTyNp3wZ",
        "outputId": "60a825a2-df61-47ca-c83b-1ed768c67d0a"
      },
      "outputs": [
        {
          "data": {
            "text/html": [
              "<div>\n",
              "<style scoped>\n",
              "    .dataframe tbody tr th:only-of-type {\n",
              "        vertical-align: middle;\n",
              "    }\n",
              "\n",
              "    .dataframe tbody tr th {\n",
              "        vertical-align: top;\n",
              "    }\n",
              "\n",
              "    .dataframe thead th {\n",
              "        text-align: right;\n",
              "    }\n",
              "</style>\n",
              "<table border=\"1\" class=\"dataframe\">\n",
              "  <thead>\n",
              "    <tr style=\"text-align: right;\">\n",
              "      <th></th>\n",
              "      <th>Segment</th>\n",
              "      <th>Cleaned_Brand_Names</th>\n",
              "      <th>TOT_SALES</th>\n",
              "    </tr>\n",
              "  </thead>\n",
              "  <tbody>\n",
              "    <tr>\n",
              "      <th>0</th>\n",
              "      <td>YOUNG SINGLES/COUPLES - Mainstream</td>\n",
              "      <td>Kettle</td>\n",
              "      <td>35423.6</td>\n",
              "    </tr>\n",
              "    <tr>\n",
              "      <th>8</th>\n",
              "      <td>YOUNG SINGLES/COUPLES - Mainstream</td>\n",
              "      <td>Doritos</td>\n",
              "      <td>21705.9</td>\n",
              "    </tr>\n",
              "    <tr>\n",
              "      <th>23</th>\n",
              "      <td>YOUNG SINGLES/COUPLES - Mainstream</td>\n",
              "      <td>Pringles</td>\n",
              "      <td>16006.2</td>\n",
              "    </tr>\n",
              "    <tr>\n",
              "      <th>24</th>\n",
              "      <td>YOUNG SINGLES/COUPLES - Mainstream</td>\n",
              "      <td>Smiths</td>\n",
              "      <td>15265.7</td>\n",
              "    </tr>\n",
              "    <tr>\n",
              "      <th>55</th>\n",
              "      <td>YOUNG SINGLES/COUPLES - Mainstream</td>\n",
              "      <td>Infuzions</td>\n",
              "      <td>8749.4</td>\n",
              "    </tr>\n",
              "    <tr>\n",
              "      <th>59</th>\n",
              "      <td>YOUNG SINGLES/COUPLES - Mainstream</td>\n",
              "      <td>Old</td>\n",
              "      <td>8180.4</td>\n",
              "    </tr>\n",
              "    <tr>\n",
              "      <th>65</th>\n",
              "      <td>YOUNG SINGLES/COUPLES - Mainstream</td>\n",
              "      <td>Twisties</td>\n",
              "      <td>7539.8</td>\n",
              "    </tr>\n",
              "    <tr>\n",
              "      <th>73</th>\n",
              "      <td>YOUNG SINGLES/COUPLES - Mainstream</td>\n",
              "      <td>Tostitos</td>\n",
              "      <td>7238.0</td>\n",
              "    </tr>\n",
              "    <tr>\n",
              "      <th>74</th>\n",
              "      <td>YOUNG SINGLES/COUPLES - Mainstream</td>\n",
              "      <td>Thins</td>\n",
              "      <td>7217.1</td>\n",
              "    </tr>\n",
              "    <tr>\n",
              "      <th>92</th>\n",
              "      <td>YOUNG SINGLES/COUPLES - Mainstream</td>\n",
              "      <td>Cobs</td>\n",
              "      <td>6144.6</td>\n",
              "    </tr>\n",
              "    <tr>\n",
              "      <th>124</th>\n",
              "      <td>YOUNG SINGLES/COUPLES - Mainstream</td>\n",
              "      <td>RRD</td>\n",
              "      <td>4958.1</td>\n",
              "    </tr>\n",
              "    <tr>\n",
              "      <th>129</th>\n",
              "      <td>YOUNG SINGLES/COUPLES - Mainstream</td>\n",
              "      <td>Tyrrells</td>\n",
              "      <td>4800.6</td>\n",
              "    </tr>\n",
              "    <tr>\n",
              "      <th>148</th>\n",
              "      <td>YOUNG SINGLES/COUPLES - Mainstream</td>\n",
              "      <td>Grain Waves</td>\n",
              "      <td>4201.0</td>\n",
              "    </tr>\n",
              "    <tr>\n",
              "      <th>189</th>\n",
              "      <td>YOUNG SINGLES/COUPLES - Mainstream</td>\n",
              "      <td>Cheezels</td>\n",
              "      <td>3318.3</td>\n",
              "    </tr>\n",
              "    <tr>\n",
              "      <th>246</th>\n",
              "      <td>YOUNG SINGLES/COUPLES - Mainstream</td>\n",
              "      <td>Natural Chip Co</td>\n",
              "      <td>2130.0</td>\n",
              "    </tr>\n",
              "    <tr>\n",
              "      <th>258</th>\n",
              "      <td>YOUNG SINGLES/COUPLES - Mainstream</td>\n",
              "      <td>Woolworths</td>\n",
              "      <td>1929.8</td>\n",
              "    </tr>\n",
              "    <tr>\n",
              "      <th>318</th>\n",
              "      <td>YOUNG SINGLES/COUPLES - Mainstream</td>\n",
              "      <td>Cheetos</td>\n",
              "      <td>898.8</td>\n",
              "    </tr>\n",
              "    <tr>\n",
              "      <th>327</th>\n",
              "      <td>YOUNG SINGLES/COUPLES - Mainstream</td>\n",
              "      <td>CCs</td>\n",
              "      <td>850.5</td>\n",
              "    </tr>\n",
              "    <tr>\n",
              "      <th>383</th>\n",
              "      <td>YOUNG SINGLES/COUPLES - Mainstream</td>\n",
              "      <td>French</td>\n",
              "      <td>429.0</td>\n",
              "    </tr>\n",
              "    <tr>\n",
              "      <th>393</th>\n",
              "      <td>YOUNG SINGLES/COUPLES - Mainstream</td>\n",
              "      <td>Sunbites</td>\n",
              "      <td>391.0</td>\n",
              "    </tr>\n",
              "    <tr>\n",
              "      <th>415</th>\n",
              "      <td>YOUNG SINGLES/COUPLES - Mainstream</td>\n",
              "      <td>Burger</td>\n",
              "      <td>243.8</td>\n",
              "    </tr>\n",
              "  </tbody>\n",
              "</table>\n",
              "</div>"
            ],
            "text/plain": [
              "                                Segment Cleaned_Brand_Names  TOT_SALES\n",
              "0    YOUNG SINGLES/COUPLES - Mainstream              Kettle    35423.6\n",
              "8    YOUNG SINGLES/COUPLES - Mainstream             Doritos    21705.9\n",
              "23   YOUNG SINGLES/COUPLES - Mainstream            Pringles    16006.2\n",
              "24   YOUNG SINGLES/COUPLES - Mainstream              Smiths    15265.7\n",
              "55   YOUNG SINGLES/COUPLES - Mainstream           Infuzions     8749.4\n",
              "59   YOUNG SINGLES/COUPLES - Mainstream                 Old     8180.4\n",
              "65   YOUNG SINGLES/COUPLES - Mainstream            Twisties     7539.8\n",
              "73   YOUNG SINGLES/COUPLES - Mainstream            Tostitos     7238.0\n",
              "74   YOUNG SINGLES/COUPLES - Mainstream               Thins     7217.1\n",
              "92   YOUNG SINGLES/COUPLES - Mainstream                Cobs     6144.6\n",
              "124  YOUNG SINGLES/COUPLES - Mainstream                 RRD     4958.1\n",
              "129  YOUNG SINGLES/COUPLES - Mainstream            Tyrrells     4800.6\n",
              "148  YOUNG SINGLES/COUPLES - Mainstream         Grain Waves     4201.0\n",
              "189  YOUNG SINGLES/COUPLES - Mainstream            Cheezels     3318.3\n",
              "246  YOUNG SINGLES/COUPLES - Mainstream     Natural Chip Co     2130.0\n",
              "258  YOUNG SINGLES/COUPLES - Mainstream          Woolworths     1929.8\n",
              "318  YOUNG SINGLES/COUPLES - Mainstream             Cheetos      898.8\n",
              "327  YOUNG SINGLES/COUPLES - Mainstream                 CCs      850.5\n",
              "383  YOUNG SINGLES/COUPLES - Mainstream              French      429.0\n",
              "393  YOUNG SINGLES/COUPLES - Mainstream            Sunbites      391.0\n",
              "415  YOUNG SINGLES/COUPLES - Mainstream              Burger      243.8"
            ]
          },
          "execution_count": 79,
          "metadata": {
            "tags": []
          },
          "output_type": "execute_result"
        }
      ],
      "source": [
        "z = (\n",
        "    temp.groupby([\"Segment\", \"Cleaned_Brand_Names\"])\n",
        "    .sum()[\"TOT_SALES\"]\n",
        "    .sort_values(ascending=False)\n",
        "    .reset_index()\n",
        ")\n",
        "z[z[\"Segment\"] == \"YOUNG SINGLES/COUPLES - Mainstream\"]"
      ]
    },
    {
      "cell_type": "markdown",
      "metadata": {},
      "source": [
        "---\n"
      ]
    }
  ],
  "metadata": {
    "colab": {
      "name": "Task1.ipynb",
      "provenance": []
    },
    "kernelspec": {
      "display_name": "Python 3",
      "language": "python",
      "name": "python3"
    },
    "language_info": {
      "codemirror_mode": {
        "name": "ipython",
        "version": 3
      },
      "file_extension": ".py",
      "mimetype": "text/x-python",
      "name": "python",
      "nbconvert_exporter": "python",
      "pygments_lexer": "ipython3",
      "version": "3.11.9"
    }
  },
  "nbformat": 4,
  "nbformat_minor": 0
}
